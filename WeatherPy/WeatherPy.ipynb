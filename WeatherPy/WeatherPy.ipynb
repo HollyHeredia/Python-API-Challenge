{
 "cells": [
  {
   "cell_type": "markdown",
   "metadata": {},
   "source": [
    "# WeatherPy\n",
    "----\n",
    "\n",
    "#### Note\n",
    "* Instructions have been included for each segment. You do not have to follow them exactly, but they are included to help you think through the steps."
   ]
  },
  {
   "cell_type": "code",
   "execution_count": 15,
   "metadata": {
    "scrolled": true
   },
   "outputs": [],
   "source": [
    "# Dependencies and Setup\n",
    "import matplotlib.pyplot as plt\n",
    "import pandas as pd\n",
    "import numpy as np\n",
    "import requests\n",
    "import time\n",
    "import scipy.stats as st\n",
    "from scipy.stats import linregress\n",
    "\n",
    "# Import API key\n",
    "from api_keys import weather_api_key\n",
    "\n",
    "# Incorporated citipy to determine city based on latitude and longitude\n",
    "from citipy import citipy\n",
    "\n",
    "# Output File (CSV)\n",
    "output_data_file = \"Output/cities.csv\"\n",
    "\n",
    "# Range of latitudes and longitudes\n",
    "lat_range = (-90, 90)\n",
    "lng_range = (-180, 180)"
   ]
  },
  {
   "cell_type": "markdown",
   "metadata": {},
   "source": [
    "## Generate Cities List"
   ]
  },
  {
   "cell_type": "code",
   "execution_count": 2,
   "metadata": {},
   "outputs": [
    {
     "name": "stdout",
     "output_type": "stream",
     "text": [
      "606\n",
      "606\n"
     ]
    }
   ],
   "source": [
    "# List for holding lat_lngs and cities\n",
    "lat_lngs = []\n",
    "cities = []\n",
    "countries = []\n",
    "\n",
    "# Create a set of random lat and lng combinations\n",
    "lats = np.random.uniform(lat_range[0], lat_range[1], size=1500)\n",
    "lngs = np.random.uniform(lng_range[0], lng_range[1], size=1500)\n",
    "lat_lngs = zip(lats, lngs)\n",
    "\n",
    "# Identify nearest city for each lat, lng combination\n",
    "for lat_lng in lat_lngs:\n",
    "    city = citipy.nearest_city(lat_lng[0], lat_lng[1]).city_name\n",
    "    country = citipy.nearest_city(lat_lng[0], lat_lng[1]).country_code\n",
    "    \n",
    "    # If the city is unique, then add it to a our cities list\n",
    "    if city not in cities:\n",
    "        cities.append(city)\n",
    "        countries.append(country.upper())\n",
    "\n",
    "# Print the city count to confirm sufficient count\n",
    "print(len(cities))\n",
    "\n",
    "# Print country code to confirm it matches amount of cities\n",
    "print(len(countries))\n"
   ]
  },
  {
   "cell_type": "code",
   "execution_count": 3,
   "metadata": {},
   "outputs": [
    {
     "data": {
      "text/html": [
       "<div>\n",
       "<style scoped>\n",
       "    .dataframe tbody tr th:only-of-type {\n",
       "        vertical-align: middle;\n",
       "    }\n",
       "\n",
       "    .dataframe tbody tr th {\n",
       "        vertical-align: top;\n",
       "    }\n",
       "\n",
       "    .dataframe thead th {\n",
       "        text-align: right;\n",
       "    }\n",
       "</style>\n",
       "<table border=\"1\" class=\"dataframe\">\n",
       "  <thead>\n",
       "    <tr style=\"text-align: right;\">\n",
       "      <th></th>\n",
       "      <th>City</th>\n",
       "      <th>Country</th>\n",
       "      <th>Lat</th>\n",
       "      <th>Lng</th>\n",
       "      <th>Max Temp</th>\n",
       "      <th>Humidity</th>\n",
       "      <th>Cloudiness</th>\n",
       "      <th>Wind Speed</th>\n",
       "      <th>Date</th>\n",
       "    </tr>\n",
       "  </thead>\n",
       "  <tbody>\n",
       "    <tr>\n",
       "      <th>0</th>\n",
       "      <td>los llanos de aridane</td>\n",
       "      <td>ES</td>\n",
       "      <td></td>\n",
       "      <td></td>\n",
       "      <td></td>\n",
       "      <td></td>\n",
       "      <td></td>\n",
       "      <td></td>\n",
       "      <td></td>\n",
       "    </tr>\n",
       "    <tr>\n",
       "      <th>1</th>\n",
       "      <td>manado</td>\n",
       "      <td>ID</td>\n",
       "      <td></td>\n",
       "      <td></td>\n",
       "      <td></td>\n",
       "      <td></td>\n",
       "      <td></td>\n",
       "      <td></td>\n",
       "      <td></td>\n",
       "    </tr>\n",
       "    <tr>\n",
       "      <th>2</th>\n",
       "      <td>samarinda</td>\n",
       "      <td>ID</td>\n",
       "      <td></td>\n",
       "      <td></td>\n",
       "      <td></td>\n",
       "      <td></td>\n",
       "      <td></td>\n",
       "      <td></td>\n",
       "      <td></td>\n",
       "    </tr>\n",
       "    <tr>\n",
       "      <th>3</th>\n",
       "      <td>vaini</td>\n",
       "      <td>TO</td>\n",
       "      <td></td>\n",
       "      <td></td>\n",
       "      <td></td>\n",
       "      <td></td>\n",
       "      <td></td>\n",
       "      <td></td>\n",
       "      <td></td>\n",
       "    </tr>\n",
       "    <tr>\n",
       "      <th>4</th>\n",
       "      <td>maldonado</td>\n",
       "      <td>UY</td>\n",
       "      <td></td>\n",
       "      <td></td>\n",
       "      <td></td>\n",
       "      <td></td>\n",
       "      <td></td>\n",
       "      <td></td>\n",
       "      <td></td>\n",
       "    </tr>\n",
       "  </tbody>\n",
       "</table>\n",
       "</div>"
      ],
      "text/plain": [
       "                    City Country Lat Lng Max Temp Humidity Cloudiness  \\\n",
       "0  los llanos de aridane      ES                                        \n",
       "1                 manado      ID                                        \n",
       "2              samarinda      ID                                        \n",
       "3                  vaini      TO                                        \n",
       "4              maldonado      UY                                        \n",
       "\n",
       "  Wind Speed Date  \n",
       "0                  \n",
       "1                  \n",
       "2                  \n",
       "3                  \n",
       "4                  "
      ]
     },
     "execution_count": 3,
     "metadata": {},
     "output_type": "execute_result"
    }
   ],
   "source": [
    "# Dataframe to store data\n",
    "WeatherDF = pd.DataFrame({'City': cities,\n",
    "                          'Country': countries,\n",
    "                          'Lat': \"\",\n",
    "                          'Lng': \"\",\n",
    "                          'Max Temp': \"\",\n",
    "                          'Humidity': \"\",\n",
    "                          'Cloudiness': \"\",\n",
    "                          'Wind Speed': \"\",\n",
    "                          'Date': \"\"\n",
    "                         })\n",
    "WeatherDF.head()"
   ]
  },
  {
   "cell_type": "markdown",
   "metadata": {},
   "source": [
    "### Perform API Calls\n",
    "* Perform a weather check on each city using a series of successive API calls.\n",
    "* Include a print log of each city as it'sbeing processed (with the city number and city name).\n"
   ]
  },
  {
   "cell_type": "code",
   "execution_count": 4,
   "metadata": {},
   "outputs": [
    {
     "name": "stdout",
     "output_type": "stream",
     "text": [
      "\n",
      "______________________________\n",
      "Beginning Data Retrieval\n",
      "______________________________\n",
      "Processing Weather Data for Record 1 of Set 1 | Los Llanos de Aridane\n",
      "Processing Weather Data for Record 2 of Set 1 | Manado\n",
      "Processing Weather Data for Record 3 of Set 1 | Samarinda\n",
      "Processing Weather Data for Record 4 of Set 1 | Vaini\n",
      "Processing Weather Data for Record 5 of Set 1 | Departamento de Maldonado\n",
      "City not found....Skipping............\n",
      "Processing Weather Data for Record 6 of Set 1 | Saint Paul Harbor\n",
      "Processing Weather Data for Record 7 of Set 1 | Bluff\n",
      "Processing Weather Data for Record 8 of Set 1 | Rikitea\n",
      "Processing Weather Data for Record 9 of Set 1 | Oodweyne\n",
      "Processing Weather Data for Record 10 of Set 1 | Khatanga\n",
      "Processing Weather Data for Record 11 of Set 1 | Hamilton\n",
      "Processing Weather Data for Record 12 of Set 1 | Kapaa\n",
      "Processing Weather Data for Record 13 of Set 1 | Qaanaaq\n",
      "Processing Weather Data for Record 14 of Set 1 | Bernalillo\n",
      "Processing Weather Data for Record 15 of Set 1 | Upernavik\n",
      "Processing Weather Data for Record 16 of Set 1 | Port Alfred\n",
      "Processing Weather Data for Record 17 of Set 1 | Tasiilaq\n",
      "Processing Weather Data for Record 18 of Set 1 | Albany\n",
      "Processing Weather Data for Record 19 of Set 1 | Margate\n",
      "Processing Weather Data for Record 20 of Set 1 | Tuktoyaktuk\n",
      "City not found....Skipping............\n",
      "City not found....Skipping............\n",
      "Processing Weather Data for Record 21 of Set 1 | Denpasar\n",
      "City not found....Skipping............\n",
      "Processing Weather Data for Record 22 of Set 1 | Ushuaia\n",
      "City not found....Skipping............\n",
      "Processing Weather Data for Record 23 of Set 1 | Shimoda\n",
      "Processing Weather Data for Record 24 of Set 1 | Alyangula\n",
      "Processing Weather Data for Record 25 of Set 1 | Cherskiy\n",
      "City not found....Skipping............\n",
      "Processing Weather Data for Record 26 of Set 1 | Esperance\n",
      "Processing Weather Data for Record 27 of Set 1 | Puerto Ayora\n",
      "Processing Weather Data for Record 28 of Set 1 | Camaná\n",
      "Processing Weather Data for Record 29 of Set 1 | Pravia\n",
      "Processing Weather Data for Record 30 of Set 1 | El Carrizo\n",
      "Processing Weather Data for Record 31 of Set 1 | Atuona\n",
      "Processing Weather Data for Record 32 of Set 1 | Norman Wells\n",
      "Processing Weather Data for Record 33 of Set 1 | Nikolskoye\n",
      "Processing Weather Data for Record 34 of Set 1 | Lufilufi\n",
      "Processing Weather Data for Record 35 of Set 1 | Plettenberg Bay\n",
      "Processing Weather Data for Record 36 of Set 1 | Seoni\n",
      "City not found....Skipping............\n",
      "Processing Weather Data for Record 37 of Set 1 | Piaçabuçu\n",
      "Processing Weather Data for Record 38 of Set 1 | Ipiaú\n",
      "Processing Weather Data for Record 39 of Set 1 | Longyearbyen\n",
      "Processing Weather Data for Record 40 of Set 1 | Bredasdorp\n",
      "Processing Weather Data for Record 41 of Set 1 | Wahiawā\n",
      "Processing Weather Data for Record 42 of Set 1 | Mahébourg\n",
      "Processing Weather Data for Record 43 of Set 1 | Kavieng\n",
      "Processing Weather Data for Record 44 of Set 1 | Ferrol\n",
      "Processing Weather Data for Record 45 of Set 1 | Chokurdakh\n",
      "Processing Weather Data for Record 46 of Set 1 | North Platte\n",
      "Processing Weather Data for Record 47 of Set 1 | Chatrā\n",
      "Processing Weather Data for Record 48 of Set 1 | Aykhal\n",
      "City not found....Skipping............\n",
      "Processing Weather Data for Record 49 of Set 1 | Barrow\n",
      "City not found....Skipping............\n",
      "Processing Weather Data for Record 50 of Set 1 | Nome\n",
      "Processing Weather Data for Record 1 of Set 2 | Cutervo\n",
      "Processing Weather Data for Record 2 of Set 2 | Provideniya\n",
      "Processing Weather Data for Record 3 of Set 2 | Valdez\n",
      "Processing Weather Data for Record 4 of Set 2 | Thompson\n",
      "Processing Weather Data for Record 5 of Set 2 | Nuuk\n",
      "Processing Weather Data for Record 6 of Set 2 | Geraldton\n",
      "Processing Weather Data for Record 7 of Set 2 | Saint George\n",
      "Processing Weather Data for Record 8 of Set 2 | San Quintín\n",
      "Processing Weather Data for Record 9 of Set 2 | Hermanus\n",
      "Processing Weather Data for Record 10 of Set 2 | Mushie\n",
      "Processing Weather Data for Record 11 of Set 2 | Mandalgovi\n",
      "Processing Weather Data for Record 12 of Set 2 | Campoverde\n",
      "City not found....Skipping............\n",
      "Processing Weather Data for Record 13 of Set 2 | Kirovskiy\n",
      "Processing Weather Data for Record 14 of Set 2 | Oruzgan\n",
      "City not found....Skipping............\n",
      "Processing Weather Data for Record 15 of Set 2 | Meulaboh\n",
      "Processing Weather Data for Record 16 of Set 2 | Sechura\n",
      "City not found....Skipping............\n",
      "Processing Weather Data for Record 17 of Set 2 | Abomsa\n",
      "Processing Weather Data for Record 18 of Set 2 | Palwal\n",
      "Processing Weather Data for Record 19 of Set 2 | Georgetown\n",
      "Processing Weather Data for Record 20 of Set 2 | Kaitangata\n",
      "Processing Weather Data for Record 21 of Set 2 | Zhigansk\n",
      "City not found....Skipping............\n",
      "Processing Weather Data for Record 22 of Set 2 | Cape Town\n",
      "Processing Weather Data for Record 23 of Set 2 | Graaff-Reinet\n",
      "Processing Weather Data for Record 24 of Set 2 | Qaqortoq\n",
      "City not found....Skipping............\n",
      "Processing Weather Data for Record 25 of Set 2 | Henties Bay\n",
      "Processing Weather Data for Record 26 of Set 2 | Sabzawār\n",
      "Processing Weather Data for Record 27 of Set 2 | Saldanha\n",
      "Processing Weather Data for Record 28 of Set 2 | Paramonga\n",
      "Processing Weather Data for Record 29 of Set 2 | Araouane\n",
      "Processing Weather Data for Record 30 of Set 2 | Menongue\n",
      "City not found....Skipping............\n",
      "Processing Weather Data for Record 31 of Set 2 | Husavik\n",
      "Processing Weather Data for Record 32 of Set 2 | Metaxades\n",
      "Processing Weather Data for Record 33 of Set 2 | Wuzhou\n",
      "Processing Weather Data for Record 34 of Set 2 | Coyhaique\n",
      "Processing Weather Data for Record 35 of Set 2 | Dauphin\n",
      "Processing Weather Data for Record 36 of Set 2 | Whitehorse\n",
      "Processing Weather Data for Record 37 of Set 2 | Nichinan\n",
      "Processing Weather Data for Record 38 of Set 2 | Bengkulu\n",
      "Processing Weather Data for Record 39 of Set 2 | Jamestown\n",
      "Processing Weather Data for Record 40 of Set 2 | Santa Cruz de Tenerife\n",
      "Processing Weather Data for Record 41 of Set 2 | Forio\n",
      "Processing Weather Data for Record 42 of Set 2 | Paamiut\n",
      "Processing Weather Data for Record 43 of Set 2 | Mananjary\n",
      "Processing Weather Data for Record 44 of Set 2 | Saint-Philippe\n",
      "Processing Weather Data for Record 45 of Set 2 | Pangody\n",
      "Processing Weather Data for Record 46 of Set 2 | Isangel\n",
      "Processing Weather Data for Record 47 of Set 2 | Uyemskiy\n",
      "Processing Weather Data for Record 48 of Set 2 | Monrovia\n",
      "Processing Weather Data for Record 49 of Set 2 | Gualan\n",
      "Processing Weather Data for Record 50 of Set 2 | Butaritari\n",
      "Processing Weather Data for Record 1 of Set 3 | Pucallpa\n",
      "Processing Weather Data for Record 2 of Set 3 | Liverpool\n",
      "Processing Weather Data for Record 3 of Set 3 | Hilo\n",
      "Processing Weather Data for Record 4 of Set 3 | Ponta do Sol\n",
      "City not found....Skipping............\n",
      "Processing Weather Data for Record 5 of Set 3 | Castro\n",
      "City not found....Skipping............\n",
      "Processing Weather Data for Record 6 of Set 3 | Hobart\n",
      "Processing Weather Data for Record 7 of Set 3 | Broken Hill\n",
      "Processing Weather Data for Record 8 of Set 3 | Bethel\n",
      "Processing Weather Data for Record 9 of Set 3 | Tiksi\n",
      "Processing Weather Data for Record 10 of Set 3 | Nanortalik\n",
      "Processing Weather Data for Record 11 of Set 3 | Kirakira\n",
      "Processing Weather Data for Record 12 of Set 3 | New Norfolk\n",
      "Processing Weather Data for Record 13 of Set 3 | Verkh-Usugli\n",
      "Processing Weather Data for Record 14 of Set 3 | Kampot\n",
      "Processing Weather Data for Record 15 of Set 3 | Awjilah\n",
      "Processing Weather Data for Record 16 of Set 3 | Lebu\n",
      "Processing Weather Data for Record 17 of Set 3 | Broome\n",
      "Processing Weather Data for Record 18 of Set 3 | Hammonton\n",
      "Processing Weather Data for Record 19 of Set 3 | Beringovskiy\n",
      "Processing Weather Data for Record 20 of Set 3 | Busselton\n",
      "Processing Weather Data for Record 21 of Set 3 | Fairbanks\n",
      "Processing Weather Data for Record 22 of Set 3 | Rocha\n",
      "City not found....Skipping............\n",
      "Processing Weather Data for Record 23 of Set 3 | Stornoway\n",
      "Processing Weather Data for Record 24 of Set 3 | Ahipara\n",
      "Processing Weather Data for Record 25 of Set 3 | Punta Arenas\n",
      "Processing Weather Data for Record 26 of Set 3 | Ondjiva\n",
      "City not found....Skipping............\n",
      "Processing Weather Data for Record 27 of Set 3 | Avarua\n"
     ]
    },
    {
     "name": "stdout",
     "output_type": "stream",
     "text": [
      "Processing Weather Data for Record 28 of Set 3 | Burgeo\n",
      "Processing Weather Data for Record 29 of Set 3 | Moa\n",
      "Processing Weather Data for Record 30 of Set 3 | Carnarvon\n",
      "Processing Weather Data for Record 31 of Set 3 | Mountain Home\n",
      "Processing Weather Data for Record 32 of Set 3 | Cairns\n",
      "Processing Weather Data for Record 33 of Set 3 | Guerrero Negro\n",
      "City not found....Skipping............\n",
      "Processing Weather Data for Record 34 of Set 3 | Yichang\n",
      "Processing Weather Data for Record 35 of Set 3 | Arraial do Cabo\n",
      "Processing Weather Data for Record 36 of Set 3 | Lompoc\n",
      "Processing Weather Data for Record 37 of Set 3 | Cayenne\n",
      "Processing Weather Data for Record 38 of Set 3 | Rāver\n",
      "Processing Weather Data for Record 39 of Set 3 | Nemuro\n",
      "Processing Weather Data for Record 40 of Set 3 | Bambanglipuro\n",
      "Processing Weather Data for Record 41 of Set 3 | Singaraja\n",
      "Processing Weather Data for Record 42 of Set 3 | Torbay\n",
      "City not found....Skipping............\n",
      "City not found....Skipping............\n",
      "Processing Weather Data for Record 43 of Set 3 | Berbera\n",
      "Processing Weather Data for Record 44 of Set 3 | Mar del Plata\n",
      "Processing Weather Data for Record 45 of Set 3 | Bandarbeyla\n",
      "Processing Weather Data for Record 46 of Set 3 | Portland\n",
      "Processing Weather Data for Record 47 of Set 3 | Abnūb\n",
      "Processing Weather Data for Record 48 of Set 3 | Along\n",
      "City not found....Skipping............\n",
      "Processing Weather Data for Record 49 of Set 3 | Winburg\n",
      "Processing Weather Data for Record 50 of Set 3 | Port Arthur\n",
      "Processing Weather Data for Record 1 of Set 4 | Porto Torres\n",
      "City not found....Skipping............\n",
      "Processing Weather Data for Record 2 of Set 4 | Mount Isa\n",
      "Processing Weather Data for Record 3 of Set 4 | Esim\n",
      "Processing Weather Data for Record 4 of Set 4 | Benguela\n",
      "Processing Weather Data for Record 5 of Set 4 | Taoudenni\n",
      "Processing Weather Data for Record 6 of Set 4 | Aksarayskiy\n",
      "Processing Weather Data for Record 7 of Set 4 | Linhai\n",
      "Processing Weather Data for Record 8 of Set 4 | Cabo San Lucas\n",
      "Processing Weather Data for Record 9 of Set 4 | Ribeira Grande\n",
      "Processing Weather Data for Record 10 of Set 4 | Abu Kamal\n",
      "Processing Weather Data for Record 11 of Set 4 | Dikson\n",
      "Processing Weather Data for Record 12 of Set 4 | Tamandaré\n",
      "City not found....Skipping............\n",
      "Processing Weather Data for Record 13 of Set 4 | Chui\n",
      "Processing Weather Data for Record 14 of Set 4 | Muisne\n",
      "City not found....Skipping............\n",
      "Processing Weather Data for Record 15 of Set 4 | Tuatapere\n",
      "Processing Weather Data for Record 16 of Set 4 | Cidreira\n",
      "Processing Weather Data for Record 17 of Set 4 | Novorzhev\n",
      "Processing Weather Data for Record 18 of Set 4 | Minsk\n",
      "City not found....Skipping............\n",
      "Processing Weather Data for Record 19 of Set 4 | Puerto Carreño\n",
      "Processing Weather Data for Record 20 of Set 4 | Ulladulla\n",
      "Processing Weather Data for Record 21 of Set 4 | Wa\n",
      "Processing Weather Data for Record 22 of Set 4 | Te Anau\n",
      "City not found....Skipping............\n",
      "Processing Weather Data for Record 23 of Set 4 | Sur\n",
      "Processing Weather Data for Record 24 of Set 4 | Cap Malheureux\n",
      "Processing Weather Data for Record 25 of Set 4 | Sisimiut\n",
      "Processing Weather Data for Record 26 of Set 4 | Worland\n",
      "Processing Weather Data for Record 27 of Set 4 | Daye\n",
      "Processing Weather Data for Record 28 of Set 4 | Skjervøy\n",
      "Processing Weather Data for Record 29 of Set 4 | Yamada\n",
      "City not found....Skipping............\n",
      "Processing Weather Data for Record 30 of Set 4 | Māngrol\n",
      "City not found....Skipping............\n",
      "Processing Weather Data for Record 31 of Set 4 | Vysokogornyy\n",
      "Processing Weather Data for Record 32 of Set 4 | Mazatlán\n",
      "Processing Weather Data for Record 33 of Set 4 | Harper\n",
      "Processing Weather Data for Record 34 of Set 4 | Anekal\n",
      "Processing Weather Data for Record 35 of Set 4 | Lat Yao\n",
      "Processing Weather Data for Record 36 of Set 4 | Yanam\n",
      "Processing Weather Data for Record 37 of Set 4 | Yellowknife\n",
      "Processing Weather Data for Record 38 of Set 4 | Ladysmith\n",
      "Processing Weather Data for Record 39 of Set 4 | Arrifes\n",
      "Processing Weather Data for Record 40 of Set 4 | Narsaq\n",
      "Processing Weather Data for Record 41 of Set 4 | Alice Springs\n",
      "Processing Weather Data for Record 42 of Set 4 | Usinsk\n",
      "Processing Weather Data for Record 43 of Set 4 | Clyde River\n",
      "Processing Weather Data for Record 44 of Set 4 | Deputatsky\n",
      "City not found....Skipping............\n",
      "City not found....Skipping............\n",
      "Processing Weather Data for Record 45 of Set 4 | Harpanahalli\n",
      "Processing Weather Data for Record 46 of Set 4 | La Reforma\n",
      "Processing Weather Data for Record 47 of Set 4 | Constitucion\n",
      "Processing Weather Data for Record 48 of Set 4 | Wanning\n",
      "Processing Weather Data for Record 49 of Set 4 | Zeya\n",
      "Processing Weather Data for Record 50 of Set 4 | Coquimbo\n",
      "Processing Weather Data for Record 1 of Set 5 | Tigil'\n",
      "Processing Weather Data for Record 2 of Set 5 | Yakeshi\n",
      "Processing Weather Data for Record 3 of Set 5 | Merauke\n",
      "Processing Weather Data for Record 4 of Set 5 | Victoria\n",
      "Processing Weather Data for Record 5 of Set 5 | Umm Kaddadah\n",
      "Processing Weather Data for Record 6 of Set 5 | Kaniama\n",
      "Processing Weather Data for Record 7 of Set 5 | Darłowo\n",
      "Processing Weather Data for Record 8 of Set 5 | Yicheng\n",
      "Processing Weather Data for Record 9 of Set 5 | Terrace Bay\n",
      "Processing Weather Data for Record 10 of Set 5 | Kudahuvadhoo\n",
      "Processing Weather Data for Record 11 of Set 5 | Xinzhi\n",
      "Processing Weather Data for Record 12 of Set 5 | Kindu\n",
      "Processing Weather Data for Record 13 of Set 5 | Udachny\n",
      "Processing Weather Data for Record 14 of Set 5 | East London\n",
      "Processing Weather Data for Record 15 of Set 5 | Olafsvik\n",
      "Processing Weather Data for Record 16 of Set 5 | Lagos\n",
      "Processing Weather Data for Record 17 of Set 5 | Skibbereen\n",
      "Processing Weather Data for Record 18 of Set 5 | Balkanabat\n",
      "Processing Weather Data for Record 19 of Set 5 | Katubao\n",
      "Processing Weather Data for Record 20 of Set 5 | Goma\n",
      "Processing Weather Data for Record 21 of Set 5 | Samarai\n",
      "City not found....Skipping............\n",
      "Processing Weather Data for Record 22 of Set 5 | Umba\n",
      "Processing Weather Data for Record 23 of Set 5 | Acaraú\n",
      "City not found....Skipping............\n",
      "Processing Weather Data for Record 24 of Set 5 | Wenling\n",
      "Processing Weather Data for Record 25 of Set 5 | Peru\n",
      "Processing Weather Data for Record 26 of Set 5 | Kahului\n",
      "Processing Weather Data for Record 27 of Set 5 | Palm Coast\n",
      "Processing Weather Data for Record 28 of Set 5 | Lavrentiya\n",
      "Processing Weather Data for Record 29 of Set 5 | Mount Gambier\n",
      "Processing Weather Data for Record 30 of Set 5 | Casa Nova\n",
      "Processing Weather Data for Record 31 of Set 5 | Krasnyy Yar\n",
      "Processing Weather Data for Record 32 of Set 5 | Tura\n",
      "Processing Weather Data for Record 33 of Set 5 | São Filipe\n",
      "Processing Weather Data for Record 34 of Set 5 | Jumla\n",
      "Processing Weather Data for Record 35 of Set 5 | Saskylakh\n",
      "Processing Weather Data for Record 36 of Set 5 | Sosnovo-Ozerskoye\n",
      "Processing Weather Data for Record 37 of Set 5 | Río Gallegos\n",
      "Processing Weather Data for Record 38 of Set 5 | Ubari\n",
      "Processing Weather Data for Record 39 of Set 5 | Saint-Augustin\n",
      "Processing Weather Data for Record 40 of Set 5 | San Patricio\n",
      "Processing Weather Data for Record 41 of Set 5 | Guangyuan\n",
      "Processing Weather Data for Record 42 of Set 5 | Zhangjiakou\n",
      "Processing Weather Data for Record 43 of Set 5 | San Policarpo\n",
      "Processing Weather Data for Record 44 of Set 5 | Port Elizabeth\n",
      "Processing Weather Data for Record 45 of Set 5 | Prince Rupert\n",
      "Processing Weather Data for Record 46 of Set 5 | Malartic\n",
      "Processing Weather Data for Record 47 of Set 5 | Camacha\n",
      "Processing Weather Data for Record 48 of Set 5 | Sitka\n",
      "Processing Weather Data for Record 49 of Set 5 | Ola\n",
      "City not found....Skipping............\n",
      "Processing Weather Data for Record 50 of Set 5 | Lubango\n",
      "Processing Weather Data for Record 1 of Set 6 | Dunedin\n",
      "Processing Weather Data for Record 2 of Set 6 | Ostrovnoy\n",
      "Processing Weather Data for Record 3 of Set 6 | Nantucket\n",
      "Processing Weather Data for Record 4 of Set 6 | Lüderitz\n",
      "Processing Weather Data for Record 5 of Set 6 | Pevek\n",
      "Processing Weather Data for Record 6 of Set 6 | Wajima\n",
      "Processing Weather Data for Record 7 of Set 6 | La Ronge\n",
      "Processing Weather Data for Record 8 of Set 6 | Sadalgi\n"
     ]
    },
    {
     "name": "stdout",
     "output_type": "stream",
     "text": [
      "Processing Weather Data for Record 9 of Set 6 | Sibolga\n",
      "Processing Weather Data for Record 10 of Set 6 | Sinnamary\n",
      "Processing Weather Data for Record 11 of Set 6 | Hervey Bay\n",
      "City not found....Skipping............\n",
      "City not found....Skipping............\n",
      "Processing Weather Data for Record 12 of Set 6 | Atasū\n",
      "Processing Weather Data for Record 13 of Set 6 | Port Lincoln\n",
      "City not found....Skipping............\n",
      "Processing Weather Data for Record 14 of Set 6 | Barsovo\n",
      "Processing Weather Data for Record 15 of Set 6 | Arrondissement de Moulins\n",
      "Processing Weather Data for Record 16 of Set 6 | Waseca\n",
      "Processing Weather Data for Record 17 of Set 6 | Orhei\n",
      "City not found....Skipping............\n",
      "Processing Weather Data for Record 18 of Set 6 | Porbandar\n",
      "City not found....Skipping............\n",
      "City not found....Skipping............\n",
      "Processing Weather Data for Record 19 of Set 6 | Townsville\n",
      "Processing Weather Data for Record 20 of Set 6 | Nouadhibou\n",
      "Processing Weather Data for Record 21 of Set 6 | Gambo\n",
      "Processing Weather Data for Record 22 of Set 6 | Touros\n",
      "Processing Weather Data for Record 23 of Set 6 | Gladstone\n",
      "Processing Weather Data for Record 24 of Set 6 | São João da Barra\n",
      "Processing Weather Data for Record 25 of Set 6 | Manzhouli\n",
      "Processing Weather Data for Record 26 of Set 6 | Necochea\n",
      "Processing Weather Data for Record 27 of Set 6 | Sørland\n",
      "Processing Weather Data for Record 28 of Set 6 | Bariloche\n",
      "Processing Weather Data for Record 29 of Set 6 | Moyale\n",
      "Processing Weather Data for Record 30 of Set 6 | Sørkjosen\n",
      "Processing Weather Data for Record 31 of Set 6 | Hithadhoo\n",
      "Processing Weather Data for Record 32 of Set 6 | Funehikimachi-funehiki\n",
      "Processing Weather Data for Record 33 of Set 6 | Biryusinsk\n",
      "City not found....Skipping............\n",
      "Processing Weather Data for Record 34 of Set 6 | Ancud\n",
      "Processing Weather Data for Record 35 of Set 6 | Pisco\n",
      "Processing Weather Data for Record 36 of Set 6 | Ringebu\n",
      "Processing Weather Data for Record 37 of Set 6 | Hakui\n",
      "Processing Weather Data for Record 38 of Set 6 | Xalpatlahuac\n",
      "Processing Weather Data for Record 39 of Set 6 | Ilulissat\n",
      "Processing Weather Data for Record 40 of Set 6 | Rurrenabaque\n",
      "Processing Weather Data for Record 41 of Set 6 | Yulara\n",
      "Processing Weather Data for Record 42 of Set 6 | Helong\n",
      "Processing Weather Data for Record 43 of Set 6 | Fujin\n",
      "Processing Weather Data for Record 44 of Set 6 | Port Blair\n",
      "Processing Weather Data for Record 45 of Set 6 | Moerai\n",
      "Processing Weather Data for Record 46 of Set 6 | Maltahöhe\n",
      "Processing Weather Data for Record 47 of Set 6 | Biltine\n",
      "City not found....Skipping............\n",
      "Processing Weather Data for Record 48 of Set 6 | Plastun\n",
      "Processing Weather Data for Record 49 of Set 6 | Lazarev\n",
      "Processing Weather Data for Record 50 of Set 6 | Hasaki\n",
      "Processing Weather Data for Record 1 of Set 7 | Quatre Cocos\n",
      "Processing Weather Data for Record 2 of Set 7 | Entre-Deux\n",
      "Processing Weather Data for Record 3 of Set 7 | Yar-Sale\n",
      "City not found....Skipping............\n",
      "Processing Weather Data for Record 4 of Set 7 | Fort Nelson\n",
      "Processing Weather Data for Record 5 of Set 7 | Mirny\n",
      "Processing Weather Data for Record 6 of Set 7 | Pacific Grove\n",
      "Processing Weather Data for Record 7 of Set 7 | Sciacca\n",
      "Processing Weather Data for Record 8 of Set 7 | Chara\n",
      "Processing Weather Data for Record 9 of Set 7 | Timmins\n",
      "Processing Weather Data for Record 10 of Set 7 | Carballo\n",
      "Processing Weather Data for Record 11 of Set 7 | Freeport\n",
      "Processing Weather Data for Record 12 of Set 7 | Souillac\n",
      "Processing Weather Data for Record 13 of Set 7 | Pemangkat\n",
      "City not found....Skipping............\n",
      "City not found....Skipping............\n",
      "Processing Weather Data for Record 14 of Set 7 | Sambava\n",
      "Processing Weather Data for Record 15 of Set 7 | Mahanoro\n",
      "Processing Weather Data for Record 16 of Set 7 | Bambous Virieux\n",
      "Processing Weather Data for Record 17 of Set 7 | Bac Lieu\n",
      "Processing Weather Data for Record 18 of Set 7 | Lorengau\n",
      "Processing Weather Data for Record 19 of Set 7 | Notsé\n",
      "Processing Weather Data for Record 20 of Set 7 | Komsomol'skiy\n",
      "Processing Weather Data for Record 21 of Set 7 | Valleyview\n",
      "Processing Weather Data for Record 22 of Set 7 | Saint-Georges\n",
      "Processing Weather Data for Record 23 of Set 7 | Guhāgar\n",
      "Processing Weather Data for Record 24 of Set 7 | Winslow\n",
      "Processing Weather Data for Record 25 of Set 7 | Boa Vista\n",
      "Processing Weather Data for Record 26 of Set 7 | Kavaratti\n",
      "Processing Weather Data for Record 27 of Set 7 | Svetlogorsk\n",
      "City not found....Skipping............\n",
      "Processing Weather Data for Record 28 of Set 7 | Puerto Escondido\n",
      "Processing Weather Data for Record 29 of Set 7 | Sojītra\n",
      "Processing Weather Data for Record 30 of Set 7 | Unecha\n",
      "Processing Weather Data for Record 31 of Set 7 | Taksimo\n",
      "Processing Weather Data for Record 32 of Set 7 | Paciran\n",
      "Processing Weather Data for Record 33 of Set 7 | Bongaree\n",
      "Processing Weather Data for Record 34 of Set 7 | Arnprior\n",
      "Processing Weather Data for Record 35 of Set 7 | Mossamedes\n",
      "Processing Weather Data for Record 36 of Set 7 | Yining\n",
      "Processing Weather Data for Record 37 of Set 7 | San José de las Lajas\n",
      "Processing Weather Data for Record 38 of Set 7 | Ust'-Ilimsk\n",
      "Processing Weather Data for Record 39 of Set 7 | Palmer\n",
      "City not found....Skipping............\n",
      "City not found....Skipping............\n",
      "Processing Weather Data for Record 40 of Set 7 | Turukhansk\n",
      "Processing Weather Data for Record 41 of Set 7 | Inhambane\n",
      "Processing Weather Data for Record 42 of Set 7 | Hofn\n",
      "Processing Weather Data for Record 43 of Set 7 | Balakhta\n",
      "City not found....Skipping............\n",
      "City not found....Skipping............\n",
      "Processing Weather Data for Record 44 of Set 7 | Diffa\n",
      "Processing Weather Data for Record 45 of Set 7 | Kalaiya\n",
      "Processing Weather Data for Record 46 of Set 7 | Talnakh\n",
      "Processing Weather Data for Record 47 of Set 7 | Svarstad\n",
      "Processing Weather Data for Record 48 of Set 7 | Rairangpur\n",
      "Processing Weather Data for Record 49 of Set 7 | Ceres\n",
      "Processing Weather Data for Record 50 of Set 7 | Tāsgaon\n",
      "Processing Weather Data for Record 1 of Set 8 | Gasa\n",
      "Processing Weather Data for Record 2 of Set 8 | Sabaudia\n",
      "Processing Weather Data for Record 3 of Set 8 | Oranjemund\n",
      "Processing Weather Data for Record 4 of Set 8 | Dudinka\n",
      "Processing Weather Data for Record 5 of Set 8 | Bemidji\n",
      "Processing Weather Data for Record 6 of Set 8 | Sola\n",
      "Processing Weather Data for Record 7 of Set 8 | Ixtapa\n",
      "Processing Weather Data for Record 8 of Set 8 | Abbeville\n",
      "Processing Weather Data for Record 9 of Set 8 | Ossora\n",
      "Processing Weather Data for Record 10 of Set 8 | Half Moon Bay\n",
      "Processing Weather Data for Record 11 of Set 8 | Kruisfontein\n",
      "City not found....Skipping............\n",
      "City not found....Skipping............\n",
      "Processing Weather Data for Record 12 of Set 8 | Alberton\n",
      "Processing Weather Data for Record 13 of Set 8 | Shipitsyno\n",
      "Processing Weather Data for Record 14 of Set 8 | Ballina\n",
      "Processing Weather Data for Record 15 of Set 8 | Fortuna Foothills\n",
      "Processing Weather Data for Record 16 of Set 8 | Chicama\n",
      "Processing Weather Data for Record 17 of Set 8 | Karatau\n",
      "Processing Weather Data for Record 18 of Set 8 | Nishihara\n",
      "City not found....Skipping............\n",
      "Processing Weather Data for Record 19 of Set 8 | Laguna\n",
      "Processing Weather Data for Record 20 of Set 8 | Bosaso\n",
      "Processing Weather Data for Record 21 of Set 8 | Sühbaatar\n",
      "Processing Weather Data for Record 22 of Set 8 | Whitewater\n",
      "Processing Weather Data for Record 23 of Set 8 | Saint-François\n",
      "Processing Weather Data for Record 24 of Set 8 | Talcahuano\n",
      "Processing Weather Data for Record 25 of Set 8 | Atyrau\n",
      "Processing Weather Data for Record 26 of Set 8 | Soyo\n",
      "Processing Weather Data for Record 27 of Set 8 | Severo-Kuril'sk\n",
      "Processing Weather Data for Record 28 of Set 8 | Hammerfest\n",
      "Processing Weather Data for Record 29 of Set 8 | Jardim\n",
      "Processing Weather Data for Record 30 of Set 8 | Grand Gaube\n",
      "Processing Weather Data for Record 31 of Set 8 | Port-Gentil\n",
      "Processing Weather Data for Record 32 of Set 8 | Black Forest\n",
      "Processing Weather Data for Record 33 of Set 8 | Ust-Nera\n",
      "Processing Weather Data for Record 34 of Set 8 | San Antonio\n",
      "City not found....Skipping............\n",
      "City not found....Skipping............\n"
     ]
    },
    {
     "name": "stdout",
     "output_type": "stream",
     "text": [
      "Processing Weather Data for Record 35 of Set 8 | Korla\n",
      "City not found....Skipping............\n",
      "Processing Weather Data for Record 36 of Set 8 | Sergeevka\n",
      "Processing Weather Data for Record 37 of Set 8 | Ust-Maya\n",
      "Processing Weather Data for Record 38 of Set 8 | Baruun-Urt\n",
      "City not found....Skipping............\n",
      "Processing Weather Data for Record 39 of Set 8 | Brandon\n",
      "City not found....Skipping............\n",
      "Processing Weather Data for Record 40 of Set 8 | Kangaatsiaq\n",
      "Processing Weather Data for Record 41 of Set 8 | Oakdale\n",
      "Processing Weather Data for Record 42 of Set 8 | Bauchi\n",
      "Processing Weather Data for Record 43 of Set 8 | Iberia\n",
      "Processing Weather Data for Record 44 of Set 8 | Chapleau\n",
      "Processing Weather Data for Record 45 of Set 8 | Arrondissement de Morlaix\n",
      "Processing Weather Data for Record 46 of Set 8 | Siaya\n",
      "Processing Weather Data for Record 47 of Set 8 | Nyurba\n",
      "Processing Weather Data for Record 48 of Set 8 | Qui Nhon\n",
      "Processing Weather Data for Record 49 of Set 8 | Naze\n",
      "Processing Weather Data for Record 50 of Set 8 | Neuquén\n",
      "Processing Weather Data for Record 1 of Set 9 | Ileza\n",
      "Processing Weather Data for Record 2 of Set 9 | Phan Thiet\n",
      "Processing Weather Data for Record 3 of Set 9 | Kollam\n",
      "Processing Weather Data for Record 4 of Set 9 | Faanui\n",
      "Processing Weather Data for Record 5 of Set 9 | Arrondissement de Bastia\n",
      "City not found....Skipping............\n",
      "Processing Weather Data for Record 6 of Set 9 | North Bend\n",
      "Processing Weather Data for Record 7 of Set 9 | Ibrā’\n",
      "Processing Weather Data for Record 8 of Set 9 | Mogadishu\n",
      "Processing Weather Data for Record 9 of Set 9 | Santarém\n",
      "City not found....Skipping............\n",
      "Processing Weather Data for Record 10 of Set 9 | Luang Prabang\n",
      "Processing Weather Data for Record 11 of Set 9 | Berdigestyakh\n",
      "Processing Weather Data for Record 12 of Set 9 | Inuvik\n",
      "Processing Weather Data for Record 13 of Set 9 | Khasan\n",
      "Processing Weather Data for Record 14 of Set 9 | Christchurch\n",
      "Processing Weather Data for Record 15 of Set 9 | Alofi\n",
      "Processing Weather Data for Record 16 of Set 9 | Iqaluit\n",
      "Processing Weather Data for Record 17 of Set 9 | Kinshasa\n",
      "Processing Weather Data for Record 18 of Set 9 | Egvekinot\n",
      "Processing Weather Data for Record 19 of Set 9 | Havelock\n",
      "Processing Weather Data for Record 20 of Set 9 | Beloha\n",
      "Processing Weather Data for Record 21 of Set 9 | Savannah\n",
      "Processing Weather Data for Record 22 of Set 9 | Cochrane\n",
      "Processing Weather Data for Record 23 of Set 9 | Acapulco de Juárez\n",
      "City not found....Skipping............\n",
      "Processing Weather Data for Record 24 of Set 9 | Gorontalo\n",
      "Processing Weather Data for Record 25 of Set 9 | Chernyshevskiy\n",
      "Processing Weather Data for Record 26 of Set 9 | Aklavik\n",
      "Processing Weather Data for Record 27 of Set 9 | Almeirim\n",
      "Processing Weather Data for Record 28 of Set 9 | College\n",
      "Processing Weather Data for Record 29 of Set 9 | Pedernales\n",
      "Processing Weather Data for Record 30 of Set 9 | Xiaoshi\n",
      "City not found....Skipping............\n",
      "Processing Weather Data for Record 31 of Set 9 | Krasnogorsk\n",
      "City not found....Skipping............\n",
      "Processing Weather Data for Record 32 of Set 9 | Caravelas\n",
      "City not found....Skipping............\n",
      "Processing Weather Data for Record 33 of Set 9 | Newport\n",
      "Processing Weather Data for Record 34 of Set 9 | El Alto\n",
      "Processing Weather Data for Record 35 of Set 9 | Dimitrovgrad\n",
      "City not found....Skipping............\n",
      "Processing Weather Data for Record 36 of Set 9 | Carauari\n",
      "Processing Weather Data for Record 37 of Set 9 | Barcelos\n",
      "Processing Weather Data for Record 38 of Set 9 | Sawākin\n",
      "Processing Weather Data for Record 39 of Set 9 | Dubai\n",
      "Processing Weather Data for Record 40 of Set 9 | Klaksvík\n",
      "Processing Weather Data for Record 41 of Set 9 | Sobolevo\n",
      "Processing Weather Data for Record 42 of Set 9 | Bonavista\n",
      "Processing Weather Data for Record 43 of Set 9 | Bathsheba\n",
      "Processing Weather Data for Record 44 of Set 9 | Petropavlovsk-Kamchatskiy\n",
      "Processing Weather Data for Record 45 of Set 9 | Xalapa\n",
      "Processing Weather Data for Record 46 of Set 9 | Câmara de Lobos\n",
      "Processing Weather Data for Record 47 of Set 9 | Kalmunai\n",
      "Processing Weather Data for Record 48 of Set 9 | Maningrida\n",
      "Processing Weather Data for Record 49 of Set 9 | Qasigiannguit\n",
      "Processing Weather Data for Record 50 of Set 9 | Otane\n",
      "Processing Weather Data for Record 1 of Set 10 | Takoradze\n",
      "Processing Weather Data for Record 2 of Set 10 | Ugoofaaru\n",
      "Processing Weather Data for Record 3 of Set 10 | Manggar\n",
      "Processing Weather Data for Record 4 of Set 10 | Ol'khovatka\n",
      "Processing Weather Data for Record 5 of Set 10 | Port Hardy\n",
      "Processing Weather Data for Record 6 of Set 10 | San Andrés\n",
      "Processing Weather Data for Record 7 of Set 10 | Odiong\n",
      "City not found....Skipping............\n",
      "Processing Weather Data for Record 8 of Set 10 | Andenes\n",
      "City not found....Skipping............\n",
      "Processing Weather Data for Record 9 of Set 10 | Moyobamba\n",
      "Processing Weather Data for Record 10 of Set 10 | Putyatino\n",
      "Processing Weather Data for Record 11 of Set 10 | Fereydūnkenār\n",
      "Processing Weather Data for Record 12 of Set 10 | Leutkirch\n",
      "Processing Weather Data for Record 13 of Set 10 | San Luis\n",
      "Processing Weather Data for Record 14 of Set 10 | Bam\n",
      "Processing Weather Data for Record 15 of Set 10 | Riachão do Jacuípe\n",
      "Processing Weather Data for Record 16 of Set 10 | Kutum\n",
      "Processing Weather Data for Record 17 of Set 10 | Calama\n",
      "Processing Weather Data for Record 18 of Set 10 | Pareora\n",
      "Processing Weather Data for Record 19 of Set 10 | Araceli\n",
      "Processing Weather Data for Record 20 of Set 10 | Buraidah\n",
      "City not found....Skipping............\n",
      "Processing Weather Data for Record 21 of Set 10 | San Pedro de Jujuy\n",
      "City not found....Skipping............\n",
      "City not found....Skipping............\n",
      "Processing Weather Data for Record 22 of Set 10 | Chiredzi\n",
      "Processing Weather Data for Record 23 of Set 10 | St. Thomas de Montmagny\n",
      "Processing Weather Data for Record 24 of Set 10 | Coahuayana Viejo\n",
      "Processing Weather Data for Record 25 of Set 10 | São Fidélis\n",
      "Processing Weather Data for Record 26 of Set 10 | Hobyo\n",
      "Processing Weather Data for Record 27 of Set 10 | San Cristobal\n",
      "Processing Weather Data for Record 28 of Set 10 | Baraki Barak\n",
      "Processing Weather Data for Record 29 of Set 10 | Bay-Khaak\n",
      "Processing Weather Data for Record 30 of Set 10 | Fortuna\n",
      "Processing Weather Data for Record 31 of Set 10 | Split\n",
      "Processing Weather Data for Record 32 of Set 10 | Fukuechō\n",
      "Processing Weather Data for Record 33 of Set 10 | Gao\n",
      "Processing Weather Data for Record 34 of Set 10 | Urusha\n",
      "Processing Weather Data for Record 35 of Set 10 | Nador\n",
      "City not found....Skipping............\n",
      "Processing Weather Data for Record 36 of Set 10 | Gobabis\n",
      "Processing Weather Data for Record 37 of Set 10 | Nizwá\n",
      "City not found....Skipping............\n",
      "City not found....Skipping............\n",
      "Processing Weather Data for Record 38 of Set 10 | Buchanan\n",
      "Processing Weather Data for Record 39 of Set 10 | Aksarka\n",
      "Processing Weather Data for Record 40 of Set 10 | Beaverlodge\n",
      "Processing Weather Data for Record 41 of Set 10 | Ismailia\n",
      "Processing Weather Data for Record 42 of Set 10 | Kidal\n",
      "Processing Weather Data for Record 43 of Set 10 | Talakan\n",
      "Processing Weather Data for Record 44 of Set 10 | Karligan\n",
      "Processing Weather Data for Record 45 of Set 10 | Kuril'sk\n",
      "Processing Weather Data for Record 46 of Set 10 | Manokwari\n",
      "Processing Weather Data for Record 47 of Set 10 | Mitú\n",
      "Processing Weather Data for Record 48 of Set 10 | Dingle\n",
      "City not found....Skipping............\n",
      "Processing Weather Data for Record 49 of Set 10 | Mayo\n",
      "Processing Weather Data for Record 50 of Set 10 | Orodara\n",
      "Processing Weather Data for Record 1 of Set 11 | Cam Ranh\n",
      "Processing Weather Data for Record 2 of Set 11 | Ous\n",
      "Processing Weather Data for Record 3 of Set 11 | Merowe\n",
      "Processing Weather Data for Record 4 of Set 11 | Anadyr\n",
      "Processing Weather Data for Record 5 of Set 11 | Palmerston\n",
      "Processing Weather Data for Record 6 of Set 11 | Vao\n",
      "Processing Weather Data for Record 7 of Set 11 | Manta\n",
      "Processing Weather Data for Record 8 of Set 11 | Fatehābād\n",
      "Processing Weather Data for Record 9 of Set 11 | Popondetta\n",
      "Processing Weather Data for Record 10 of Set 11 | Chapais\n",
      "Processing Weather Data for Record 11 of Set 11 | Tezu\n"
     ]
    },
    {
     "name": "stdout",
     "output_type": "stream",
     "text": [
      "Processing Weather Data for Record 12 of Set 11 | Manadhoo\n",
      "Processing Weather Data for Record 13 of Set 11 | Anloga\n",
      "Processing Weather Data for Record 14 of Set 11 | Sistranda\n",
      "Processing Weather Data for Record 15 of Set 11 | Moberly\n",
      "Processing Weather Data for Record 16 of Set 11 | Flinders\n",
      "Processing Weather Data for Record 17 of Set 11 | Kamenka\n",
      "Processing Weather Data for Record 18 of Set 11 | Salisbury\n",
      "Processing Weather Data for Record 19 of Set 11 | Pundaguitan\n",
      "Processing Weather Data for Record 20 of Set 11 | Berlevåg\n",
      "Processing Weather Data for Record 21 of Set 11 | Rio Verde de Mato Grosso\n",
      "Processing Weather Data for Record 22 of Set 11 | Sabang\n",
      "Processing Weather Data for Record 23 of Set 11 | El Fuerte\n",
      "Processing Weather Data for Record 24 of Set 11 | San Ramón\n",
      "Processing Weather Data for Record 25 of Set 11 | Comodoro Rivadavia\n",
      "Processing Weather Data for Record 26 of Set 11 | Kenora\n",
      "Processing Weather Data for Record 27 of Set 11 | Butajīra\n",
      "Processing Weather Data for Record 28 of Set 11 | Dongzhen\n",
      "Processing Weather Data for Record 29 of Set 11 | Oistins\n",
      "Processing Weather Data for Record 30 of Set 11 | Galesong\n",
      "Processing Weather Data for Record 31 of Set 11 | Ilawe\n",
      "\n",
      "-----------------------------\n",
      "Data Retrival Complete\n",
      "-----------------------------\n"
     ]
    }
   ],
   "source": [
    "# Keep track of response number\n",
    "RecordNum = 1\n",
    "RecordSet = 1\n",
    "\n",
    "# Base URL\n",
    "base_url = 'http://api.openweathermap.org/data/2.5/weather?q='\n",
    "\n",
    "#Run the API for each city\n",
    "print('''\n",
    "______________________________\n",
    "Beginning Data Retrieval\n",
    "______________________________''')\n",
    "\n",
    "# Loop through cities in API and add to dataframe\n",
    "for index, row in WeatherDF.iterrows():\n",
    "    # Query URL for API call\n",
    "    query_url = base_url + row['City'] + ',' + row['Country'] + '&units=imperial'+'&APPID=' + weather_api_key\n",
    "    # API Call\n",
    "    response = requests.get(query_url).json()\n",
    "\n",
    "    # Exception script if city is not found and adding info to data frame if it is\n",
    "    try:\n",
    "        # Message that computer is looking for data\n",
    "        print(f'Processing Weather Data for Record {RecordNum} of Set {RecordSet} | {response[\"name\"]}')\n",
    "        \n",
    "        # Input data into DataFrame\n",
    "        WeatherDF.loc[index, 'Cloudiness'] = response['clouds']['all']\n",
    "        WeatherDF.loc[index, 'Date'] = response['dt']\n",
    "        WeatherDF.loc[index, 'Humidity'] = response['main']['humidity']\n",
    "        WeatherDF.loc[index, 'Lat'] = response['coord']['lat']\n",
    "        WeatherDF.loc[index, 'Lng'] = response['coord']['lon']\n",
    "        WeatherDF.loc[index, 'Max Temp'] = response['main']['temp_max']\n",
    "        WeatherDF.loc[index, 'Wind Speed'] = response['wind']['speed']\n",
    "        \n",
    "        # Increase the record count\n",
    "        RecordNum += 1\n",
    "        \n",
    "    except (KeyError, IndexError):\n",
    "        print(\"City not found....Skipping............\")\n",
    "        \n",
    "    # If statement to handle API call limits\n",
    "    if RecordNum == 51:\n",
    "        RecordSet += 1\n",
    "        RecordNum = 1\n",
    "        time.sleep(60)\n",
    "        \n",
    "print('''\n",
    "-----------------------------\n",
    "Data Retrival Complete\n",
    "-----------------------------''')"
   ]
  },
  {
   "cell_type": "markdown",
   "metadata": {},
   "source": [
    "### Convert Raw Data to DataFrame\n",
    "* Export the city data into a .csv.\n",
    "* Display the DataFrame"
   ]
  },
  {
   "cell_type": "code",
   "execution_count": 5,
   "metadata": {},
   "outputs": [
    {
     "name": "stdout",
     "output_type": "stream",
     "text": [
      "City          606\n",
      "Country       606\n",
      "Lat           606\n",
      "Lng           606\n",
      "Max Temp      606\n",
      "Humidity      606\n",
      "Cloudiness    606\n",
      "Wind Speed    606\n",
      "Date          606\n",
      "dtype: int64\n"
     ]
    },
    {
     "data": {
      "text/html": [
       "<div>\n",
       "<style scoped>\n",
       "    .dataframe tbody tr th:only-of-type {\n",
       "        vertical-align: middle;\n",
       "    }\n",
       "\n",
       "    .dataframe tbody tr th {\n",
       "        vertical-align: top;\n",
       "    }\n",
       "\n",
       "    .dataframe thead th {\n",
       "        text-align: right;\n",
       "    }\n",
       "</style>\n",
       "<table border=\"1\" class=\"dataframe\">\n",
       "  <thead>\n",
       "    <tr style=\"text-align: right;\">\n",
       "      <th></th>\n",
       "      <th>City</th>\n",
       "      <th>Country</th>\n",
       "      <th>Lat</th>\n",
       "      <th>Lng</th>\n",
       "      <th>Max Temp</th>\n",
       "      <th>Humidity</th>\n",
       "      <th>Cloudiness</th>\n",
       "      <th>Wind Speed</th>\n",
       "      <th>Date</th>\n",
       "    </tr>\n",
       "  </thead>\n",
       "  <tbody>\n",
       "    <tr>\n",
       "      <th>0</th>\n",
       "      <td>los llanos de aridane</td>\n",
       "      <td>ES</td>\n",
       "      <td>28.6585</td>\n",
       "      <td>-17.9182</td>\n",
       "      <td>66.2</td>\n",
       "      <td>59</td>\n",
       "      <td>0</td>\n",
       "      <td>3.44</td>\n",
       "      <td>1619659615</td>\n",
       "    </tr>\n",
       "    <tr>\n",
       "      <th>1</th>\n",
       "      <td>manado</td>\n",
       "      <td>ID</td>\n",
       "      <td>1.487</td>\n",
       "      <td>124.846</td>\n",
       "      <td>87.8</td>\n",
       "      <td>62</td>\n",
       "      <td>20</td>\n",
       "      <td>2.3</td>\n",
       "      <td>1619659497</td>\n",
       "    </tr>\n",
       "    <tr>\n",
       "      <th>2</th>\n",
       "      <td>samarinda</td>\n",
       "      <td>ID</td>\n",
       "      <td>-0.5</td>\n",
       "      <td>117.15</td>\n",
       "      <td>82.38</td>\n",
       "      <td>75</td>\n",
       "      <td>91</td>\n",
       "      <td>1.74</td>\n",
       "      <td>1619659473</td>\n",
       "    </tr>\n",
       "    <tr>\n",
       "      <th>3</th>\n",
       "      <td>vaini</td>\n",
       "      <td>TO</td>\n",
       "      <td>-21.2</td>\n",
       "      <td>-175.2</td>\n",
       "      <td>80.6</td>\n",
       "      <td>83</td>\n",
       "      <td>75</td>\n",
       "      <td>6.91</td>\n",
       "      <td>1619659616</td>\n",
       "    </tr>\n",
       "    <tr>\n",
       "      <th>4</th>\n",
       "      <td>maldonado</td>\n",
       "      <td>UY</td>\n",
       "      <td>-34.6667</td>\n",
       "      <td>-54.9167</td>\n",
       "      <td>55.99</td>\n",
       "      <td>100</td>\n",
       "      <td>0</td>\n",
       "      <td>4.61</td>\n",
       "      <td>1619659616</td>\n",
       "    </tr>\n",
       "  </tbody>\n",
       "</table>\n",
       "</div>"
      ],
      "text/plain": [
       "                    City Country      Lat      Lng Max Temp Humidity  \\\n",
       "0  los llanos de aridane      ES  28.6585 -17.9182     66.2       59   \n",
       "1                 manado      ID    1.487  124.846     87.8       62   \n",
       "2              samarinda      ID     -0.5   117.15    82.38       75   \n",
       "3                  vaini      TO    -21.2   -175.2     80.6       83   \n",
       "4              maldonado      UY -34.6667 -54.9167    55.99      100   \n",
       "\n",
       "  Cloudiness Wind Speed        Date  \n",
       "0          0       3.44  1619659615  \n",
       "1         20        2.3  1619659497  \n",
       "2         91       1.74  1619659473  \n",
       "3         75       6.91  1619659616  \n",
       "4          0       4.61  1619659616  "
      ]
     },
     "execution_count": 5,
     "metadata": {},
     "output_type": "execute_result"
    }
   ],
   "source": [
    "# Drop rows with no info\n",
    "WeatherDF.dropna()\n",
    "\n",
    "print(WeatherDF.count())\n",
    "# Save to csv\n",
    "WeatherDF.to_csv(\"/Output/WeatherDF.csv\")\n",
    "\n",
    "# Preview the dataframe\n",
    "WeatherDF.head()\n"
   ]
  },
  {
   "cell_type": "code",
   "execution_count": 6,
   "metadata": {},
   "outputs": [
    {
     "name": "stdout",
     "output_type": "stream",
     "text": [
      "City          object\n",
      "Country       object\n",
      "Lat           object\n",
      "Lng           object\n",
      "Max Temp      object\n",
      "Humidity      object\n",
      "Cloudiness    object\n",
      "Wind Speed    object\n",
      "Date          object\n",
      "dtype: object\n"
     ]
    }
   ],
   "source": [
    "# Convert into Dataframe\n",
    "WeatherDF = pd.DataFrame(WeatherDF)\n",
    "print(WeatherDF.dtypes)"
   ]
  },
  {
   "cell_type": "code",
   "execution_count": 7,
   "metadata": {},
   "outputs": [
    {
     "name": "stdout",
     "output_type": "stream",
     "text": [
      "City           object\n",
      "Country        object\n",
      "Lat           float64\n",
      "Lng           float64\n",
      "Max Temp      float64\n",
      "Humidity      float64\n",
      "Cloudiness    float64\n",
      "Wind Speed    float64\n",
      "Date          float64\n",
      "dtype: object\n"
     ]
    }
   ],
   "source": [
    "# Convert string to float\n",
    "WeatherDF['Lat'] = pd.to_numeric(WeatherDF['Lat'], errors = 'coerce')\n",
    "WeatherDF['Lng'] = pd.to_numeric(WeatherDF['Lng'], errors = 'coerce')\n",
    "WeatherDF['Max Temp'] = pd.to_numeric(WeatherDF['Max Temp'], errors = 'coerce')\n",
    "WeatherDF['Humidity'] = pd.to_numeric(WeatherDF['Humidity'], errors = 'coerce')\n",
    "WeatherDF['Cloudiness'] = pd.to_numeric(WeatherDF['Cloudiness'], errors = 'coerce')\n",
    "WeatherDF['Date'] = pd.to_numeric(WeatherDF['Date'], errors = 'coerce')\n",
    "WeatherDF['Wind Speed'] = pd.to_numeric(WeatherDF['Wind Speed'], errors = 'coerce')\n",
    "\n",
    "print(WeatherDF.dtypes)"
   ]
  },
  {
   "cell_type": "code",
   "execution_count": 8,
   "metadata": {},
   "outputs": [
    {
     "data": {
      "text/html": [
       "<div>\n",
       "<style scoped>\n",
       "    .dataframe tbody tr th:only-of-type {\n",
       "        vertical-align: middle;\n",
       "    }\n",
       "\n",
       "    .dataframe tbody tr th {\n",
       "        vertical-align: top;\n",
       "    }\n",
       "\n",
       "    .dataframe thead th {\n",
       "        text-align: right;\n",
       "    }\n",
       "</style>\n",
       "<table border=\"1\" class=\"dataframe\">\n",
       "  <thead>\n",
       "    <tr style=\"text-align: right;\">\n",
       "      <th></th>\n",
       "      <th>Lat</th>\n",
       "      <th>Lng</th>\n",
       "      <th>Max Temp</th>\n",
       "      <th>Humidity</th>\n",
       "      <th>Cloudiness</th>\n",
       "      <th>Wind Speed</th>\n",
       "      <th>Date</th>\n",
       "    </tr>\n",
       "  </thead>\n",
       "  <tbody>\n",
       "    <tr>\n",
       "      <th>count</th>\n",
       "      <td>531.000000</td>\n",
       "      <td>531.000000</td>\n",
       "      <td>531.000000</td>\n",
       "      <td>531.000000</td>\n",
       "      <td>531.000000</td>\n",
       "      <td>531.000000</td>\n",
       "      <td>5.310000e+02</td>\n",
       "    </tr>\n",
       "    <tr>\n",
       "      <th>mean</th>\n",
       "      <td>20.120366</td>\n",
       "      <td>17.607039</td>\n",
       "      <td>61.253992</td>\n",
       "      <td>71.028249</td>\n",
       "      <td>55.487759</td>\n",
       "      <td>6.985593</td>\n",
       "      <td>1.619660e+09</td>\n",
       "    </tr>\n",
       "    <tr>\n",
       "      <th>std</th>\n",
       "      <td>33.436010</td>\n",
       "      <td>91.983225</td>\n",
       "      <td>18.988559</td>\n",
       "      <td>22.052792</td>\n",
       "      <td>38.616222</td>\n",
       "      <td>4.806433</td>\n",
       "      <td>2.655598e+02</td>\n",
       "    </tr>\n",
       "    <tr>\n",
       "      <th>min</th>\n",
       "      <td>-54.800000</td>\n",
       "      <td>-179.166700</td>\n",
       "      <td>12.760000</td>\n",
       "      <td>8.000000</td>\n",
       "      <td>0.000000</td>\n",
       "      <td>0.020000</td>\n",
       "      <td>1.619659e+09</td>\n",
       "    </tr>\n",
       "    <tr>\n",
       "      <th>25%</th>\n",
       "      <td>-7.221700</td>\n",
       "      <td>-67.190850</td>\n",
       "      <td>45.760000</td>\n",
       "      <td>61.500000</td>\n",
       "      <td>18.000000</td>\n",
       "      <td>3.440000</td>\n",
       "      <td>1.619660e+09</td>\n",
       "    </tr>\n",
       "    <tr>\n",
       "      <th>50%</th>\n",
       "      <td>22.566700</td>\n",
       "      <td>20.971400</td>\n",
       "      <td>64.400000</td>\n",
       "      <td>75.000000</td>\n",
       "      <td>68.000000</td>\n",
       "      <td>6.020000</td>\n",
       "      <td>1.619660e+09</td>\n",
       "    </tr>\n",
       "    <tr>\n",
       "      <th>75%</th>\n",
       "      <td>48.616600</td>\n",
       "      <td>104.953850</td>\n",
       "      <td>77.000000</td>\n",
       "      <td>87.500000</td>\n",
       "      <td>93.500000</td>\n",
       "      <td>9.080000</td>\n",
       "      <td>1.619660e+09</td>\n",
       "    </tr>\n",
       "    <tr>\n",
       "      <th>max</th>\n",
       "      <td>78.218600</td>\n",
       "      <td>179.316700</td>\n",
       "      <td>93.000000</td>\n",
       "      <td>100.000000</td>\n",
       "      <td>100.000000</td>\n",
       "      <td>33.380000</td>\n",
       "      <td>1.619660e+09</td>\n",
       "    </tr>\n",
       "  </tbody>\n",
       "</table>\n",
       "</div>"
      ],
      "text/plain": [
       "              Lat         Lng    Max Temp    Humidity  Cloudiness  Wind Speed  \\\n",
       "count  531.000000  531.000000  531.000000  531.000000  531.000000  531.000000   \n",
       "mean    20.120366   17.607039   61.253992   71.028249   55.487759    6.985593   \n",
       "std     33.436010   91.983225   18.988559   22.052792   38.616222    4.806433   \n",
       "min    -54.800000 -179.166700   12.760000    8.000000    0.000000    0.020000   \n",
       "25%     -7.221700  -67.190850   45.760000   61.500000   18.000000    3.440000   \n",
       "50%     22.566700   20.971400   64.400000   75.000000   68.000000    6.020000   \n",
       "75%     48.616600  104.953850   77.000000   87.500000   93.500000    9.080000   \n",
       "max     78.218600  179.316700   93.000000  100.000000  100.000000   33.380000   \n",
       "\n",
       "               Date  \n",
       "count  5.310000e+02  \n",
       "mean   1.619660e+09  \n",
       "std    2.655598e+02  \n",
       "min    1.619659e+09  \n",
       "25%    1.619660e+09  \n",
       "50%    1.619660e+09  \n",
       "75%    1.619660e+09  \n",
       "max    1.619660e+09  "
      ]
     },
     "execution_count": 8,
     "metadata": {},
     "output_type": "execute_result"
    }
   ],
   "source": [
    "WeatherDF.describe()"
   ]
  },
  {
   "cell_type": "markdown",
   "metadata": {},
   "source": [
    "## Inspect the data and remove the cities where the humidity > 100%.\n",
    "----\n",
    "Skip this step if there are no cities that have humidity > 100%. \n",
    "\n",
    "\n",
    "THERE ARE NO CITIES WITH HUMIDITY OVER 100%"
   ]
  },
  {
   "cell_type": "markdown",
   "metadata": {},
   "source": [
    "## Plotting the Data\n",
    "* Use proper labeling of the plots using plot titles (including date of analysis) and axes labels.\n",
    "* Save the plotted figures as .pngs."
   ]
  },
  {
   "cell_type": "markdown",
   "metadata": {},
   "source": [
    "## Latitude vs. Temperature Plot"
   ]
  },
  {
   "cell_type": "code",
   "execution_count": 16,
   "metadata": {},
   "outputs": [
    {
     "data": {
      "image/png": "[encoded data removed]",
      "text/plain": [
       "<Figure size 432x288 with 1 Axes>"
      ]
     },
     "metadata": {
      "needs_background": "light"
     },
     "output_type": "display_data"
    }
   ],
   "source": [
    "x = WeatherDF['Lat']\n",
    "y = WeatherDF['Max Temp']\n",
    "plt.scatter(x,y)\n",
    "plt.xlabel(\"Latitude\")\n",
    "plt.ylabel('Max Temperature (F)')\n",
    "plt.title(f'City Latitude vs Max Temperature {time.strftime(\"%m/%d/%Y\")}')\n",
    "plt.grid(True)\n",
    "\n",
    "# Print plot\n",
    "plt.savefig(\"Output/Latitude_vs_Max_Temp.png\")"
   ]
  },
  {
   "cell_type": "markdown",
   "metadata": {},
   "source": [
    "# Analysis\n",
    "\n",
    "As expected, we can see in this scatter plot that the weather gets warmer the closer the latitude is equal to zero (the closer you get to the equator.) It looks like the weather is nicest from -20 to 20 latitude and drops off out side of that range."
   ]
  },
  {
   "cell_type": "markdown",
   "metadata": {},
   "source": [
    "## Latitude vs. Humidity Plot"
   ]
  },
  {
   "cell_type": "code",
   "execution_count": 10,
   "metadata": {},
   "outputs": [
    {
     "data": {
      "image/png": "[encoded data removed]",
      "text/plain": [
       "<Figure size 432x288 with 1 Axes>"
      ]
     },
     "metadata": {
      "needs_background": "light"
     },
     "output_type": "display_data"
    }
   ],
   "source": [
    "# Scatter plot of Latitude vs Humdity\n",
    "x = WeatherDF['Lat']\n",
    "y = WeatherDF['Humidity']\n",
    "plt.scatter(x,y)\n",
    "plt.xlabel(\"Latitude\")\n",
    "plt.ylabel('Humdity (%)')\n",
    "plt.title(f'City Latitude vs Humdity {time.strftime(\"%m/%d/%Y\")}')\n",
    "plt.grid(True)\n",
    "\n",
    "# Print/save scatterplot\n",
    "plt.savefig(\"Output/Latitude_vs_Humidity.png\")"
   ]
  },
  {
   "cell_type": "markdown",
   "metadata": {
    "scrolled": true
   },
   "source": [
    "# Analysis\n",
    "\n",
    "There is no relationship between Latitude and Humdity."
   ]
  },
  {
   "cell_type": "markdown",
   "metadata": {},
   "source": [
    "## Latitude vs. Cloudiness Plot"
   ]
  },
  {
   "cell_type": "code",
   "execution_count": 11,
   "metadata": {},
   "outputs": [
    {
     "data": {
      "image/png": "[encoded data removed]",
      "text/plain": [
       "<Figure size 432x288 with 1 Axes>"
      ]
     },
     "metadata": {
      "needs_background": "light"
     },
     "output_type": "display_data"
    }
   ],
   "source": [
    "# Scatter Plot of Latitude vs Cloudiness\n",
    "x = WeatherDF['Lat']\n",
    "y = WeatherDF['Cloudiness']\n",
    "plt.scatter(x,y)\n",
    "plt.xlabel(\"Latitude\")\n",
    "plt.ylabel('Cloudiness (%)')\n",
    "plt.title(f'City Latitude vs Cloudiness {time.strftime(\"%m/%d/%Y\")}')\n",
    "plt.grid(True)\n",
    "\n",
    "# Print/save plot\n",
    "plt.savefig(\"Output/Latitude_vs_Cloudiness.png\")"
   ]
  },
  {
   "cell_type": "markdown",
   "metadata": {
    "scrolled": true
   },
   "source": [
    "# Analysis\n",
    "\n",
    "There is no relationship between Latitude and Cloudiness"
   ]
  },
  {
   "cell_type": "markdown",
   "metadata": {},
   "source": [
    "## Latitude vs. Wind Speed Plot"
   ]
  },
  {
   "cell_type": "code",
   "execution_count": 17,
   "metadata": {},
   "outputs": [
    {
     "data": {
      "image/png": "[encoded data removed]",
      "text/plain": [
       "<Figure size 432x288 with 1 Axes>"
      ]
     },
     "metadata": {
      "needs_background": "light"
     },
     "output_type": "display_data"
    }
   ],
   "source": [
    "# Scatter plot of Latitude vs Wind Speed\n",
    "x = WeatherDF['Lat']\n",
    "y = WeatherDF['Wind Speed']\n",
    "plt.scatter(x,y)\n",
    "plt.xlabel(\"Latitude\")\n",
    "plt.ylabel('Wind Speed (mph)')\n",
    "plt.title(f'City Latitude vs Wind Speed {time.strftime(\"%m/%d/%Y\")}')\n",
    "plt.grid(True)\n",
    "\n",
    "#Print plot\n",
    "plt.savefig(\"Output/Latitude_vs_Wind_Speed.png\")"
   ]
  },
  {
   "cell_type": "markdown",
   "metadata": {
    "scrolled": true
   },
   "source": [
    "# Analysis\n",
    "\n",
    "There is no relationship between Latitude and Wind Speed."
   ]
  },
  {
   "cell_type": "markdown",
   "metadata": {},
   "source": [
    "## Linear Regression"
   ]
  },
  {
   "cell_type": "code",
   "execution_count": 18,
   "metadata": {},
   "outputs": [],
   "source": [
    "# Add Southern/Northern Hemisphere dataframes\n",
    "NorthernDF = WeatherDF.query(f\"Lat >= 0\")\n",
    "SouthernDF = WeatherDF.query(f\"Lat <= 0\")"
   ]
  },
  {
   "cell_type": "markdown",
   "metadata": {},
   "source": [
    "####  Northern Hemisphere - Max Temp vs. Latitude Linear Regression"
   ]
  },
  {
   "cell_type": "code",
   "execution_count": 21,
   "metadata": {},
   "outputs": [
    {
     "name": "stdout",
     "output_type": "stream",
     "text": [
      "The correlation between Max Temp and Latitude for the Northern Hemisphere is -0.91\n"
     ]
    },
    {
     "data": {
      "text/plain": [
       "<function matplotlib.pyplot.show(close=None, block=None)>"
      ]
     },
     "execution_count": 21,
     "metadata": {},
     "output_type": "execute_result"
    },
    {
     "data": {
      "image/png": "[encoded data removed]",
      "text/plain": [
       "<Figure size 432x288 with 1 Axes>"
      ]
     },
     "metadata": {
      "needs_background": "light"
     },
     "output_type": "display_data"
    }
   ],
   "source": [
    "#Set Axis\n",
    "x_axis = NorthernDF['Lat']\n",
    "y_axis = NorthernDF['Max Temp']\n",
    "# Pearson R\n",
    "r = st.pearsonr(x_axis, y_axis)\n",
    "print(f\"The correlation between Max Temp and Latitude for the Northern Hemisphere is {round(r[0],2)}\")\n",
    "\n",
    "# Linear regression model\n",
    "(slope, intercept, rvalue, pvalue, stderr) = st.linregress(x_axis, y_axis)\n",
    "regress_values = x_axis * slope + intercept\n",
    "line_eq = \"y = \" + str(round(slope,2)) + \"x + \" + str(round(intercept,2))\n",
    "\n",
    "# Plot\n",
    "plt.scatter(x_axis, y_axis)\n",
    "plt.plot(x_axis, regress_values, \"r-\")\n",
    "plt.annotate(line_eq,(10,20),fontsize=15,color=\"red\")\n",
    "\n",
    "# Add labels and title\n",
    "plt.xlabel('Latitude')\n",
    "plt.ylabel('Max Temp')\n",
    "plt.title('Northern Hemisphere Max Temp vs Latitude')\n",
    "\n",
    "# Show plot\n",
    "plt.show\n",
    "\n",
    "#Print plot\n",
    "plt.savefig(\"Output/Northern_Latitude_vs_Max_Temp.png\")"
   ]
  },
  {
   "cell_type": "markdown",
   "metadata": {
    "scrolled": true
   },
   "source": [
    "# Analysis\n",
    "\n",
    "There is a very clear relationship between latitude and temperature! The higher the latitude, the lower the max temp."
   ]
  },
  {
   "cell_type": "markdown",
   "metadata": {},
   "source": [
    "####  Southern Hemisphere - Max Temp vs. Latitude Linear Regression"
   ]
  },
  {
   "cell_type": "code",
   "execution_count": 1,
   "metadata": {},
   "outputs": [
    {
     "ename": "NameError",
     "evalue": "name 'SouthernDF' is not defined",
     "output_type": "error",
     "traceback": [
      "\u001b[1;31m---------------------------------------------------------------------------\u001b[0m",
      "\u001b[1;31mNameError\u001b[0m                                 Traceback (most recent call last)",
      "\u001b[1;32m<ipython-input-1-7d49909fe30c>\u001b[0m in \u001b[0;36m<module>\u001b[1;34m\u001b[0m\n\u001b[0;32m      1\u001b[0m \u001b[1;31m#Set Axis\u001b[0m\u001b[1;33m\u001b[0m\u001b[1;33m\u001b[0m\u001b[1;33m\u001b[0m\u001b[0m\n\u001b[1;32m----> 2\u001b[1;33m \u001b[0mx_axis\u001b[0m \u001b[1;33m=\u001b[0m \u001b[0mSouthernDF\u001b[0m\u001b[1;33m[\u001b[0m\u001b[1;34m'Lat'\u001b[0m\u001b[1;33m]\u001b[0m\u001b[1;33m\u001b[0m\u001b[1;33m\u001b[0m\u001b[0m\n\u001b[0m\u001b[0;32m      3\u001b[0m \u001b[0my_axis\u001b[0m \u001b[1;33m=\u001b[0m \u001b[0mSouthernDF\u001b[0m\u001b[1;33m[\u001b[0m\u001b[1;34m'Max Temp'\u001b[0m\u001b[1;33m]\u001b[0m\u001b[1;33m\u001b[0m\u001b[1;33m\u001b[0m\u001b[0m\n\u001b[0;32m      4\u001b[0m \u001b[1;31m# Pearson R\u001b[0m\u001b[1;33m\u001b[0m\u001b[1;33m\u001b[0m\u001b[1;33m\u001b[0m\u001b[0m\n\u001b[0;32m      5\u001b[0m \u001b[0mr\u001b[0m \u001b[1;33m=\u001b[0m \u001b[0mst\u001b[0m\u001b[1;33m.\u001b[0m\u001b[0mpearsonr\u001b[0m\u001b[1;33m(\u001b[0m\u001b[0mx_axis\u001b[0m\u001b[1;33m,\u001b[0m \u001b[0my_axis\u001b[0m\u001b[1;33m)\u001b[0m\u001b[1;33m\u001b[0m\u001b[1;33m\u001b[0m\u001b[0m\n",
      "\u001b[1;31mNameError\u001b[0m: name 'SouthernDF' is not defined"
     ]
    }
   ],
   "source": [
    "#Set Axis\n",
    "x_axis = SouthernDF['Lat']\n",
    "y_axis = SouthernDF['Max Temp']\n",
    "# Pearson R\n",
    "r = st.pearsonr(x_axis, y_axis)\n",
    "print(f\"The correlation between Max Temp and Latitude for the Southern Hemisphere is {round(r[0],2)}\")\n",
    "\n",
    "# Linear regression model\n",
    "(slope, intercept, rvalue, pvalue, stderr) = st.linregress(x_axis, y_axis)\n",
    "regress_values = x_axis * slope + intercept\n",
    "line_eq = \"y = \" + str(round(slope,2)) + \"x + \" + str(round(intercept,2))\n",
    "\n",
    "# Plot\n",
    "plt.scatter(x_axis, y_axis)\n",
    "plt.plot(x_axis, regress_values, \"r-\")\n",
    "plt.annotate(line_eq,(-30,40),fontsize=15,color=\"red\")\n",
    "\n",
    "# Add labels and title\n",
    "plt.xlabel('Latitude')\n",
    "plt.ylabel('Max Temp')\n",
    "plt.title('Southern Hemisphere Max Temp vs Latitude')\n",
    "\n",
    "# Show plot\n",
    "plt.show\n",
    "\n",
    "#Print plot\n",
    "plt.savefig(\"Output/Southern_Latitude_vs_Max_Temp.png\")"
   ]
  },
  {
   "cell_type": "markdown",
   "metadata": {},
   "source": [
    "# Analysis\n",
    "\n",
    "There is still a relationship between the further you get from the equator then it is colder. However, the correlation is not as strong as the northern hemisphere. "
   ]
  },
  {
   "cell_type": "markdown",
   "metadata": {},
   "source": [
    "####  Northern Hemisphere - Humidity (%) vs. Latitude Linear Regression"
   ]
  },
  {
   "cell_type": "code",
   "execution_count": 34,
   "metadata": {},
   "outputs": [
    {
     "name": "stdout",
     "output_type": "stream",
     "text": [
      "The correlation between Humidity and Latitude for the Northern Hemisphere is 0.11\n"
     ]
    },
    {
     "data": {
      "text/plain": [
       "<function matplotlib.pyplot.show(close=None, block=None)>"
      ]
     },
     "execution_count": 34,
     "metadata": {},
     "output_type": "execute_result"
    },
    {
     "data": {
      "image/png": "[encoded data removed]",
      "text/plain": [
       "<Figure size 432x288 with 1 Axes>"
      ]
     },
     "metadata": {
      "needs_background": "light"
     },
     "output_type": "display_data"
    }
   ],
   "source": [
    "#Set Axis\n",
    "x_axis = NorthernDF['Lat']\n",
    "y_axis = NorthernDF['Humidity']\n",
    "# Pearson R\n",
    "r = st.pearsonr(x_axis, y_axis)\n",
    "print(f\"The correlation between Humidity and Latitude for the Northern Hemisphere is {round(r[0],2)}\")\n",
    "\n",
    "# Linear regression model\n",
    "(slope, intercept, rvalue, pvalue, stderr) = st.linregress(x_axis, y_axis)\n",
    "regress_values = x_axis * slope + intercept\n",
    "line_eq = \"y = \" + str(round(slope,2)) + \"x + \" + str(round(intercept,2))\n",
    "\n",
    "# Plot\n",
    "plt.scatter(x_axis, y_axis)\n",
    "plt.plot(x_axis, regress_values, \"r-\")\n",
    "plt.annotate(line_eq,(0,20),fontsize=15,color=\"red\")\n",
    "\n",
    "# Add labels and title\n",
    "plt.xlabel('Latitidue')\n",
    "plt.ylabel('Humdity (%)')\n",
    "plt.title('Northern Hemisphere Humidity vs Latitude')\n",
    "\n",
    "# Show plot\n",
    "plt.show\n",
    "\n",
    "# Print plot\n",
    "plt.savefig(\"Output/Northern_Latitude_vs_Humidity.png\")"
   ]
  },
  {
   "cell_type": "markdown",
   "metadata": {},
   "source": [
    "# Analysis\n",
    "\n",
    "A very low Pearson's r number further indicates what we thought before about the correlation between humity and latitude; there isn't one."
   ]
  },
  {
   "cell_type": "markdown",
   "metadata": {},
   "source": [
    "####  Southern Hemisphere - Humidity (%) vs. Latitude Linear Regression"
   ]
  },
  {
   "cell_type": "code",
   "execution_count": 33,
   "metadata": {},
   "outputs": [
    {
     "name": "stdout",
     "output_type": "stream",
     "text": [
      "The correlation between Humidity and Latitude for the Southern Hemisphere is 0.13\n"
     ]
    },
    {
     "data": {
      "text/plain": [
       "<function matplotlib.pyplot.show(close=None, block=None)>"
      ]
     },
     "execution_count": 33,
     "metadata": {},
     "output_type": "execute_result"
    },
    {
     "data": {
      "image/png": "[encoded data removed]",
      "text/plain": [
       "<Figure size 432x288 with 1 Axes>"
      ]
     },
     "metadata": {
      "needs_background": "light"
     },
     "output_type": "display_data"
    }
   ],
   "source": [
    "#Set Axis\n",
    "x_axis = SouthernDF['Lat']\n",
    "y_axis = SouthernDF['Humidity']\n",
    "# Pearson R\n",
    "r = st.pearsonr(x_axis, y_axis)\n",
    "print(f\"The correlation between Humidity and Latitude for the Southern Hemisphere is {round(r[0],2)}\")\n",
    "\n",
    "# Linear regression model\n",
    "(slope, intercept, rvalue, pvalue, stderr) = st.linregress(x_axis, y_axis)\n",
    "regress_values = x_axis * slope + intercept\n",
    "line_eq = \"y = \" + str(round(slope,2)) + \"x + \" + str(round(intercept,2))\n",
    "\n",
    "# Plot\n",
    "plt.scatter(x_axis, y_axis)\n",
    "plt.plot(x_axis, regress_values, \"r-\")\n",
    "plt.annotate(line_eq,(-20,40),fontsize=15,color=\"red\")\n",
    "\n",
    "# Add labels and title\n",
    "plt.xlabel('Latitude')\n",
    "plt.ylabel('Humdity (%)')\n",
    "plt.title('Southern Hemisphere Humdity (%) vs Latitude')\n",
    "\n",
    "# Show plot\n",
    "plt.show\n",
    "\n",
    "#Print plot\n",
    "plt.savefig(\"Output/Southern_Latitude_vs_Humidty.png\")"
   ]
  },
  {
   "cell_type": "markdown",
   "metadata": {},
   "source": [
    "# Analysis\n",
    "\n",
    "Though the Pearson's r is slightly higher than in the Northern hemisphere, it is not high enough to think there is any kind of correlation between humity and latitude in the Southern hemisphere."
   ]
  },
  {
   "cell_type": "markdown",
   "metadata": {},
   "source": [
    "####  Northern Hemisphere - Cloudiness (%) vs. Latitude Linear Regression"
   ]
  },
  {
   "cell_type": "code",
   "execution_count": 32,
   "metadata": {},
   "outputs": [
    {
     "name": "stdout",
     "output_type": "stream",
     "text": [
      "The correlation between Humidity and Latitude for the Northern Hemisphere is 0.1\n"
     ]
    },
    {
     "data": {
      "text/plain": [
       "<function matplotlib.pyplot.show(close=None, block=None)>"
      ]
     },
     "execution_count": 32,
     "metadata": {},
     "output_type": "execute_result"
    },
    {
     "data": {
      "image/png": "[encoded data removed]",
      "text/plain": [
       "<Figure size 432x288 with 1 Axes>"
      ]
     },
     "metadata": {
      "needs_background": "light"
     },
     "output_type": "display_data"
    }
   ],
   "source": [
    "#Set Axis\n",
    "x_axis = NorthernDF['Lat']\n",
    "y_axis = NorthernDF['Cloudiness']\n",
    "# Pearson R\n",
    "r = st.pearsonr(x_axis, y_axis)\n",
    "print(f\"The correlation between Cloudiness and Latitude for the Northern Hemisphere is {round(r[0],2)}\")\n",
    "\n",
    "# Linear regression model\n",
    "(slope, intercept, rvalue, pvalue, stderr) = st.linregress(x_axis, y_axis)\n",
    "regress_values = x_axis * slope + intercept\n",
    "line_eq = \"y = \" + str(round(slope,2)) + \"x + \" + str(round(intercept,2))\n",
    "\n",
    "# Plot\n",
    "plt.scatter(x_axis, y_axis)\n",
    "plt.plot(x_axis, regress_values, \"r-\")\n",
    "plt.annotate(line_eq,(48,46),fontsize=15,color=\"red\")\n",
    "\n",
    "# Add labels and title\n",
    "plt.xlabel('Latitidue')\n",
    "plt.ylabel('Cloudiness (%)')\n",
    "plt.title('Northern Hemisphere Cloudiness vs Latitude')\n",
    "\n",
    "# Show plot\n",
    "plt.show\n",
    "\n",
    "# Print plot\n",
    "plt.savefig(\"Output/Northern_Latitude_vs_Cloudiness.png\")"
   ]
  },
  {
   "cell_type": "markdown",
   "metadata": {},
   "source": [
    "# Analysis\n",
    "\n",
    "Dots all over the place! This plot confirms our other analysis that there is not relationship between cloudiness and latitude."
   ]
  },
  {
   "cell_type": "markdown",
   "metadata": {},
   "source": [
    "####  Southern Hemisphere - Cloudiness (%) vs. Latitude Linear Regression"
   ]
  },
  {
   "cell_type": "code",
   "execution_count": 37,
   "metadata": {
    "scrolled": true
   },
   "outputs": [
    {
     "name": "stdout",
     "output_type": "stream",
     "text": [
      "The correlation between Cloudiness and Latitude for the Southern Hemisphere is 0.24\n"
     ]
    },
    {
     "data": {
      "text/plain": [
       "<function matplotlib.pyplot.show(close=None, block=None)>"
      ]
     },
     "execution_count": 37,
     "metadata": {},
     "output_type": "execute_result"
    },
    {
     "data": {
      "image/png": "[encoded data removed]",
      "text/plain": [
       "<Figure size 432x288 with 1 Axes>"
      ]
     },
     "metadata": {
      "needs_background": "light"
     },
     "output_type": "display_data"
    }
   ],
   "source": [
    "#Set Axis\n",
    "x_axis = SouthernDF['Lat']\n",
    "y_axis = SouthernDF['Cloudiness']\n",
    "# Pearson R\n",
    "r = st.pearsonr(x_axis, y_axis)\n",
    "print(f\"The correlation between Cloudiness and Latitude for the Southern Hemisphere is {round(r[0],2)}\")\n",
    "\n",
    "# Linear regression model\n",
    "(slope, intercept, rvalue, pvalue, stderr) = st.linregress(x_axis, y_axis)\n",
    "regress_values = x_axis * slope + intercept\n",
    "line_eq = \"y = \" + str(round(slope,2)) + \"x + \" + str(round(intercept,2))\n",
    "\n",
    "# Plot\n",
    "plt.scatter(x_axis, y_axis)\n",
    "plt.plot(x_axis, regress_values, \"r-\")\n",
    "plt.annotate(line_eq,(-50,60),fontsize=15,color=\"red\")\n",
    "b\n",
    "# Add labels and title\n",
    "plt.xlabel('Latitude')\n",
    "plt.ylabel('Cloudiness (%)')\n",
    "plt.title('Southern Hemisphere Cloudiness (%) vs Latitude')\n",
    "\n",
    "# Show plot\n",
    "plt.show\n",
    "\n",
    "# Print Plot\n",
    "plt.savefig(\"Output/Southern_Latitude_vs_Cloudiness.png\")"
   ]
  },
  {
   "cell_type": "markdown",
   "metadata": {},
   "source": [
    "# Analysis\n",
    "\n",
    "Though it appears that in the Southern Hemisphere it appears that there is slightly more correlation between Cloudiness and Latitude. However, it's not a strong enough correlation that one would state that they are actually correlated."
   ]
  },
  {
   "cell_type": "markdown",
   "metadata": {},
   "source": [
    "####  Northern Hemisphere - Wind Speed (mph) vs. Latitude Linear Regression"
   ]
  },
  {
   "cell_type": "code",
   "execution_count": null,
   "metadata": {},
   "outputs": [],
   "source": [
    "#Set Axis\n",
    "x_axis = NorthernDF['Lat']\n",
    "y_axis = NorthernDF['Wind Speed']\n",
    "# Pearson R\n",
    "r = st.pearsonr(x_axis, y_axis)\n",
    "print(f\"The correlation between Wind Speed (mph) and Latitude for the Northern Hemisphere is {round(r[0],2)}\")\n",
    "\n",
    "# Linear regression model\n",
    "(slope, intercept, rvalue, pvalue, stderr) = st.linregress(x_axis, y_axis)\n",
    "regress_values = x_axis * slope + intercept\n",
    "line_eq = \"y = \" + str(round(slope,2)) + \"x + \" + str(round(intercept,2))\n",
    "\n",
    "# Plot\n",
    "plt.scatter(x_axis, y_axis)\n",
    "plt.plot(x_axis, regress_values, \"r-\")\n",
    "plt.annotate(line_eq,(48,46),fontsize=15,color=\"red\")\n",
    "\n",
    "# Add labels and title\n",
    "plt.xlabel('Latitidue')\n",
    "plt.ylabel('Wind Speed (mph)')\n",
    "plt.title('Northern Hemisphere Wind Speed (mph) vs Latitude')\n",
    "\n",
    "# Show plot\n",
    "plt.show\n",
    "\n",
    "# Print plot\n",
    "plt.savefig(\"Output/Northern_Latitude_vs_Wind_Speeed.png\")"
   ]
  },
  {
   "cell_type": "markdown",
   "metadata": {},
   "source": [
    "####  Southern Hemisphere - Wind Speed (mph) vs. Latitude Linear Regression"
   ]
  },
  {
   "cell_type": "code",
   "execution_count": 39,
   "metadata": {},
   "outputs": [
    {
     "name": "stdout",
     "output_type": "stream",
     "text": [
      "The correlation between Wind Speed (mph) and Latitude for the Southern Hemisphere is -0.23\n"
     ]
    },
    {
     "data": {
      "text/plain": [
       "<function matplotlib.pyplot.show(close=None, block=None)>"
      ]
     },
     "execution_count": 39,
     "metadata": {},
     "output_type": "execute_result"
    },
    {
     "data": {
      "image/png": "[encoded data removed]",
      "text/plain": [
       "<Figure size 432x288 with 1 Axes>"
      ]
     },
     "metadata": {
      "needs_background": "light"
     },
     "output_type": "display_data"
    }
   ],
   "source": [
    "#Set Axis\n",
    "x_axis = SouthernDF['Lat']\n",
    "y_axis = SouthernDF['Wind Speed']\n",
    "# Pearson R\n",
    "r = st.pearsonr(x_axis, y_axis)\n",
    "print(f\"The correlation between Wind Speed (mph) and Latitude for the Southern Hemisphere is {round(r[0],2)}\")\n",
    "\n",
    "# Linear regression model\n",
    "(slope, intercept, rvalue, pvalue, stderr) = st.linregress(x_axis, y_axis)\n",
    "regress_values = x_axis * slope + intercept\n",
    "line_eq = \"y = \" + str(round(slope,2)) + \"x + \" + str(round(intercept,2))\n",
    "\n",
    "# Plot\n",
    "plt.scatter(x_axis, y_axis)\n",
    "plt.plot(x_axis, regress_values, \"r-\")\n",
    "plt.annotate(line_eq,(-45,23),fontsize=15,color=\"red\")\n",
    "\n",
    "# Add labels and title\n",
    "plt.xlabel('Latitude')\n",
    "plt.ylabel('Wind Speed (mph)')\n",
    "plt.title('Southern Hemisphere Wind Speed (%) vs Latitude')\n",
    "\n",
    "# Show plot\n",
    "plt.show\n",
    "\n",
    "# Print plot\n",
    "plt.savefig(\"Output/Southern_Latitude_vs_Wind_Speed.png\")"
   ]
  },
  {
   "cell_type": "markdown",
   "metadata": {},
   "source": [
    "# Analysis\n",
    "\n",
    "There is no major correlation between wind speed and latitude in the southern hemisphere. \n",
    "\n",
    "\n",
    "# FINAL ANALYSIS\n",
    "\n",
    "While we found out that there is a strong relationship between temperature and latitude, we found no such correlation for wind speed and cloudiness. I would be interested in trying to find the altitude to see if it correlates. "
   ]
  }
 ],
 "metadata": {
  "anaconda-cloud": {},
  "kernel_info": {
   "name": "python3"
  },
  "kernelspec": {
   "display_name": "Python 3",
   "language": "python",
   "name": "python3"
  },
  "language_info": {
   "codemirror_mode": {
    "name": "ipython",
    "version": 3
   },
   "file_extension": ".py",
   "mimetype": "text/x-python",
   "name": "python",
   "nbconvert_exporter": "python",
   "pygments_lexer": "ipython3",
   "version": "3.8.5"
  },
  "latex_envs": {
   "LaTeX_envs_menu_present": true,
   "autoclose": false,
   "autocomplete": true,
   "bibliofile": "biblio.bib",
   "cite_by": "apalike",
   "current_citInitial": 1,
   "eqLabelWithNumbers": true,
   "eqNumInitial": 1,
   "hotkeys": {
    "equation": "Ctrl-E",
    "itemize": "Ctrl-I"
   },
   "labels_anchors": false,
   "latex_user_defs": false,
   "report_style_numbering": false,
   "user_envs_cfg": false
  },
  "nteract": {
   "version": "0.12.3"
  }
 },
 "nbformat": 4,
 "nbformat_minor": 2
}
