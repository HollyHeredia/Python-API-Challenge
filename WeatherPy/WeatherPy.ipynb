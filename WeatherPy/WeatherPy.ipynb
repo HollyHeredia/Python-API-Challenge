{
 "cells": [
  {
   "cell_type": "markdown",
   "metadata": {},
   "source": [
    "# WeatherPy\n",
    "----\n",
    "\n",
    "#### Note\n",
    "* Instructions have been included for each segment. You do not have to follow them exactly, but they are included to help you think through the steps."
   ]
  },
  {
   "cell_type": "code",
   "execution_count": 1,
   "metadata": {
    "scrolled": true
   },
   "outputs": [],
   "source": [
    "# Dependencies and Setup\n",
    "import matplotlib.pyplot as plt\n",
    "import pandas as pd\n",
    "import numpy as np\n",
    "import requests\n",
    "import time\n",
    "import scipy.stats as st\n",
    "from scipy.stats import linregress\n",
    "\n",
    "# Import API key\n",
    "from api_keys import weather_api_key\n",
    "\n",
    "# Incorporated citipy to determine city based on latitude and longitude\n",
    "from citipy import citipy\n",
    "\n",
    "# Output File (CSV)\n",
    "output_data_file = \"Output/cities.csv\"\n",
    "\n",
    "# Range of latitudes and longitudes\n",
    "lat_range = (-90, 90)\n",
    "lng_range = (-180, 180)"
   ]
  },
  {
   "cell_type": "markdown",
   "metadata": {},
   "source": [
    "## Generate Cities List"
   ]
  },
  {
   "cell_type": "code",
   "execution_count": 2,
   "metadata": {},
   "outputs": [
    {
     "name": "stdout",
     "output_type": "stream",
     "text": [
      "584\n",
      "584\n"
     ]
    }
   ],
   "source": [
    "# List for holding lat_lngs and cities\n",
    "lat_lngs = []\n",
    "cities = []\n",
    "countries = []\n",
    "\n",
    "# Create a set of random lat and lng combinations\n",
    "lats = np.random.uniform(lat_range[0], lat_range[1], size=1500)\n",
    "lngs = np.random.uniform(lng_range[0], lng_range[1], size=1500)\n",
    "lat_lngs = zip(lats, lngs)\n",
    "\n",
    "# Identify nearest city for each lat, lng combination\n",
    "for lat_lng in lat_lngs:\n",
    "    city = citipy.nearest_city(lat_lng[0], lat_lng[1]).city_name\n",
    "    country = citipy.nearest_city(lat_lng[0], lat_lng[1]).country_code\n",
    "    \n",
    "    # If the city is unique, then add it to a our cities list\n",
    "    if city not in cities:\n",
    "        cities.append(city)\n",
    "        countries.append(country.upper())\n",
    "\n",
    "# Print the city count to confirm sufficient count\n",
    "print(len(cities))\n",
    "\n",
    "# Print country code to confirm it matches amount of cities\n",
    "print(len(countries))\n"
   ]
  },
  {
   "cell_type": "code",
   "execution_count": 3,
   "metadata": {},
   "outputs": [
    {
     "data": {
      "text/html": [
       "<div>\n",
       "<style scoped>\n",
       "    .dataframe tbody tr th:only-of-type {\n",
       "        vertical-align: middle;\n",
       "    }\n",
       "\n",
       "    .dataframe tbody tr th {\n",
       "        vertical-align: top;\n",
       "    }\n",
       "\n",
       "    .dataframe thead th {\n",
       "        text-align: right;\n",
       "    }\n",
       "</style>\n",
       "<table border=\"1\" class=\"dataframe\">\n",
       "  <thead>\n",
       "    <tr style=\"text-align: right;\">\n",
       "      <th></th>\n",
       "      <th>City</th>\n",
       "      <th>Country</th>\n",
       "      <th>Lat</th>\n",
       "      <th>Lng</th>\n",
       "      <th>Max Temp</th>\n",
       "      <th>Humidity</th>\n",
       "      <th>Cloudiness</th>\n",
       "      <th>Wind Speed</th>\n",
       "      <th>Date</th>\n",
       "    </tr>\n",
       "  </thead>\n",
       "  <tbody>\n",
       "    <tr>\n",
       "      <th>0</th>\n",
       "      <td>playa vicente</td>\n",
       "      <td>MX</td>\n",
       "      <td></td>\n",
       "      <td></td>\n",
       "      <td></td>\n",
       "      <td></td>\n",
       "      <td></td>\n",
       "      <td></td>\n",
       "      <td></td>\n",
       "    </tr>\n",
       "    <tr>\n",
       "      <th>1</th>\n",
       "      <td>kalmunai</td>\n",
       "      <td>LK</td>\n",
       "      <td></td>\n",
       "      <td></td>\n",
       "      <td></td>\n",
       "      <td></td>\n",
       "      <td></td>\n",
       "      <td></td>\n",
       "      <td></td>\n",
       "    </tr>\n",
       "    <tr>\n",
       "      <th>2</th>\n",
       "      <td>grand river south east</td>\n",
       "      <td>MU</td>\n",
       "      <td></td>\n",
       "      <td></td>\n",
       "      <td></td>\n",
       "      <td></td>\n",
       "      <td></td>\n",
       "      <td></td>\n",
       "      <td></td>\n",
       "    </tr>\n",
       "    <tr>\n",
       "      <th>3</th>\n",
       "      <td>rikitea</td>\n",
       "      <td>PF</td>\n",
       "      <td></td>\n",
       "      <td></td>\n",
       "      <td></td>\n",
       "      <td></td>\n",
       "      <td></td>\n",
       "      <td></td>\n",
       "      <td></td>\n",
       "    </tr>\n",
       "    <tr>\n",
       "      <th>4</th>\n",
       "      <td>linxia</td>\n",
       "      <td>CN</td>\n",
       "      <td></td>\n",
       "      <td></td>\n",
       "      <td></td>\n",
       "      <td></td>\n",
       "      <td></td>\n",
       "      <td></td>\n",
       "      <td></td>\n",
       "    </tr>\n",
       "  </tbody>\n",
       "</table>\n",
       "</div>"
      ],
      "text/plain": [
       "                     City Country Lat Lng Max Temp Humidity Cloudiness  \\\n",
       "0           playa vicente      MX                                        \n",
       "1                kalmunai      LK                                        \n",
       "2  grand river south east      MU                                        \n",
       "3                 rikitea      PF                                        \n",
       "4                  linxia      CN                                        \n",
       "\n",
       "  Wind Speed Date  \n",
       "0                  \n",
       "1                  \n",
       "2                  \n",
       "3                  \n",
       "4                  "
      ]
     },
     "execution_count": 3,
     "metadata": {},
     "output_type": "execute_result"
    }
   ],
   "source": [
    "# Dataframe to store data\n",
    "WeatherDF = pd.DataFrame({'City': cities,\n",
    "                          'Country': countries,\n",
    "                          'Lat': \"\",\n",
    "                          'Lng': \"\",\n",
    "                          'Max Temp': \"\",\n",
    "                          'Humidity': \"\",\n",
    "                          'Cloudiness': \"\",\n",
    "                          'Wind Speed': \"\",\n",
    "                          'Date': \"\"\n",
    "                         })\n",
    "WeatherDF.head()"
   ]
  },
  {
   "cell_type": "markdown",
   "metadata": {},
   "source": [
    "### Perform API Calls\n",
    "* Perform a weather check on each city using a series of successive API calls.\n",
    "* Include a print log of each city as it'sbeing processed (with the city number and city name).\n"
   ]
  },
  {
   "cell_type": "code",
   "execution_count": 4,
   "metadata": {},
   "outputs": [
    {
     "name": "stdout",
     "output_type": "stream",
     "text": [
      "\n",
      "______________________________\n",
      "Beginning Data Retrieval\n",
      "______________________________\n",
      "Processing Weather Data for Record 1 of Set 1 | Playa Vicente\n",
      "Processing Weather Data for Record 2 of Set 1 | Kalmunai\n",
      "City not found....Skipping............\n",
      "Processing Weather Data for Record 3 of Set 1 | Rikitea\n",
      "Processing Weather Data for Record 4 of Set 1 | Linxia Chengguanzhen\n",
      "Processing Weather Data for Record 5 of Set 1 | Thompson\n",
      "Processing Weather Data for Record 6 of Set 1 | Punta Arenas\n",
      "Processing Weather Data for Record 7 of Set 1 | Alice Springs\n",
      "Processing Weather Data for Record 8 of Set 1 | College\n",
      "Processing Weather Data for Record 9 of Set 1 | Albany\n",
      "City not found....Skipping............\n",
      "City not found....Skipping............\n",
      "Processing Weather Data for Record 10 of Set 1 | Butaritari\n",
      "Processing Weather Data for Record 11 of Set 1 | Mahébourg\n",
      "Processing Weather Data for Record 12 of Set 1 | Dhidhdhoo\n",
      "Processing Weather Data for Record 13 of Set 1 | Ushuaia\n",
      "Processing Weather Data for Record 14 of Set 1 | La Ronge\n",
      "Processing Weather Data for Record 15 of Set 1 | Nikolskoye\n",
      "Processing Weather Data for Record 16 of Set 1 | Saint-Philippe\n",
      "Processing Weather Data for Record 17 of Set 1 | Yulara\n",
      "Processing Weather Data for Record 18 of Set 1 | Severo-Kuril'sk\n",
      "Processing Weather Data for Record 19 of Set 1 | Mar del Plata\n",
      "Processing Weather Data for Record 20 of Set 1 | Kermen\n",
      "Processing Weather Data for Record 21 of Set 1 | Puerto Ayora\n",
      "Processing Weather Data for Record 22 of Set 1 | Merowe\n",
      "Processing Weather Data for Record 23 of Set 1 | Vaini\n",
      "Processing Weather Data for Record 24 of Set 1 | Avarua\n",
      "Processing Weather Data for Record 25 of Set 1 | East London\n",
      "Processing Weather Data for Record 26 of Set 1 | Flinders\n",
      "Processing Weather Data for Record 27 of Set 1 | Sur\n",
      "Processing Weather Data for Record 28 of Set 1 | Bethel\n",
      "Processing Weather Data for Record 29 of Set 1 | Zhigansk\n",
      "Processing Weather Data for Record 30 of Set 1 | Port Alfred\n",
      "Processing Weather Data for Record 31 of Set 1 | Longyearbyen\n",
      "Processing Weather Data for Record 32 of Set 1 | Kapaa\n",
      "Processing Weather Data for Record 33 of Set 1 | Kruisfontein\n",
      "Processing Weather Data for Record 34 of Set 1 | Cape Town\n",
      "Processing Weather Data for Record 35 of Set 1 | Dikson\n",
      "Processing Weather Data for Record 36 of Set 1 | Hilo\n",
      "Processing Weather Data for Record 37 of Set 1 | Mazagão\n",
      "City not found....Skipping............\n",
      "Processing Weather Data for Record 38 of Set 1 | Horadiz\n",
      "Processing Weather Data for Record 39 of Set 1 | Cabo San Lucas\n",
      "Processing Weather Data for Record 40 of Set 1 | Rundu\n",
      "City not found....Skipping............\n",
      "Processing Weather Data for Record 41 of Set 1 | Ilhabela\n",
      "Processing Weather Data for Record 42 of Set 1 | São João da Barra\n",
      "Processing Weather Data for Record 43 of Set 1 | Tuktoyaktuk\n",
      "Processing Weather Data for Record 44 of Set 1 | Mossamedes\n",
      "Processing Weather Data for Record 45 of Set 1 | São Filipe\n",
      "City not found....Skipping............\n",
      "Processing Weather Data for Record 46 of Set 1 | Hithadhoo\n",
      "Processing Weather Data for Record 47 of Set 1 | Ranong\n",
      "Processing Weather Data for Record 48 of Set 1 | Mandalgovi\n",
      "Processing Weather Data for Record 49 of Set 1 | Busselton\n",
      "Processing Weather Data for Record 50 of Set 1 | Nakambala\n",
      "Processing Weather Data for Record 1 of Set 2 | Carnarvon\n",
      "Processing Weather Data for Record 2 of Set 2 | Victoria\n",
      "Processing Weather Data for Record 3 of Set 2 | Hermanus\n",
      "Processing Weather Data for Record 4 of Set 2 | Mirny\n",
      "City not found....Skipping............\n",
      "Processing Weather Data for Record 5 of Set 2 | Syracuse\n",
      "Processing Weather Data for Record 6 of Set 2 | Amga\n",
      "Processing Weather Data for Record 7 of Set 2 | Harper\n",
      "City not found....Skipping............\n",
      "Processing Weather Data for Record 8 of Set 2 | Tasiilaq\n",
      "Processing Weather Data for Record 9 of Set 2 | Leningradskiy\n",
      "Processing Weather Data for Record 10 of Set 2 | Alofi\n",
      "Processing Weather Data for Record 11 of Set 2 | Port-Gentil\n",
      "Processing Weather Data for Record 12 of Set 2 | Porto Novo\n",
      "Processing Weather Data for Record 13 of Set 2 | Tura\n",
      "Processing Weather Data for Record 14 of Set 2 | Damaturu\n",
      "Processing Weather Data for Record 15 of Set 2 | Mitsamiouli\n",
      "Processing Weather Data for Record 16 of Set 2 | Katsuura\n",
      "Processing Weather Data for Record 17 of Set 2 | Nanortalik\n",
      "Processing Weather Data for Record 18 of Set 2 | Kaitangata\n",
      "Processing Weather Data for Record 19 of Set 2 | Phuket\n",
      "Processing Weather Data for Record 20 of Set 2 | Sisimiut\n",
      "City not found....Skipping............\n",
      "Processing Weather Data for Record 21 of Set 2 | Concepción del Oro\n",
      "Processing Weather Data for Record 22 of Set 2 | Bredasdorp\n",
      "Processing Weather Data for Record 23 of Set 2 | Kupang\n",
      "Processing Weather Data for Record 24 of Set 2 | Poso\n",
      "Processing Weather Data for Record 25 of Set 2 | Kirovsk\n",
      "Processing Weather Data for Record 26 of Set 2 | Cherskiy\n",
      "Processing Weather Data for Record 27 of Set 2 | Carutapera\n",
      "Processing Weather Data for Record 28 of Set 2 | Chimbote\n",
      "Processing Weather Data for Record 29 of Set 2 | Iqaluit\n",
      "Processing Weather Data for Record 30 of Set 2 | Sola\n",
      "Processing Weather Data for Record 31 of Set 2 | Upernavik\n",
      "Processing Weather Data for Record 32 of Set 2 | Zhezkazgan\n",
      "City not found....Skipping............\n",
      "Processing Weather Data for Record 33 of Set 2 | Menongue\n",
      "Processing Weather Data for Record 34 of Set 2 | Ilulissat\n",
      "Processing Weather Data for Record 35 of Set 2 | Três Lagoas\n",
      "Processing Weather Data for Record 36 of Set 2 | Pangnirtung\n",
      "City not found....Skipping............\n",
      "Processing Weather Data for Record 37 of Set 2 | Makhinjauri\n",
      "Processing Weather Data for Record 38 of Set 2 | Qeshm\n",
      "Processing Weather Data for Record 39 of Set 2 | Bobrovytsya\n",
      "Processing Weather Data for Record 40 of Set 2 | Sukumo\n",
      "Processing Weather Data for Record 41 of Set 2 | Khatanga\n",
      "City not found....Skipping............\n",
      "City not found....Skipping............\n",
      "Processing Weather Data for Record 42 of Set 2 | Lompoc\n",
      "City not found....Skipping............\n",
      "Processing Weather Data for Record 43 of Set 2 | Arraial do Cabo\n",
      "Processing Weather Data for Record 44 of Set 2 | Sandnessjøen\n",
      "Processing Weather Data for Record 45 of Set 2 | Shillong\n",
      "City not found....Skipping............\n",
      "Processing Weather Data for Record 46 of Set 2 | Saint Paul Harbor\n",
      "Processing Weather Data for Record 47 of Set 2 | Necochea\n",
      "Processing Weather Data for Record 48 of Set 2 | Bogorodskoye\n",
      "Processing Weather Data for Record 49 of Set 2 | Togur\n",
      "Processing Weather Data for Record 50 of Set 2 | Jamestown\n",
      "Processing Weather Data for Record 1 of Set 3 | Pangody\n",
      "Processing Weather Data for Record 2 of Set 3 | Pangoa\n",
      "Processing Weather Data for Record 3 of Set 3 | Lagoa\n",
      "Processing Weather Data for Record 4 of Set 3 | Provost\n",
      "City not found....Skipping............\n",
      "Processing Weather Data for Record 5 of Set 3 | Broken Hill\n",
      "Processing Weather Data for Record 6 of Set 3 | Lüderitz\n",
      "Processing Weather Data for Record 7 of Set 3 | San Quintín\n",
      "Processing Weather Data for Record 8 of Set 3 | Kahului\n",
      "City not found....Skipping............\n",
      "Processing Weather Data for Record 9 of Set 3 | Wattegama\n",
      "Processing Weather Data for Record 10 of Set 3 | Venado Tuerto\n",
      "Processing Weather Data for Record 11 of Set 3 | Sechura\n",
      "Processing Weather Data for Record 12 of Set 3 | Nyurba\n",
      "Processing Weather Data for Record 13 of Set 3 | Atuona\n",
      "Processing Weather Data for Record 14 of Set 3 | Jalu\n",
      "Processing Weather Data for Record 15 of Set 3 | Ucluelet\n",
      "Processing Weather Data for Record 16 of Set 3 | Okha\n",
      "Processing Weather Data for Record 17 of Set 3 | Nuquí\n",
      "Processing Weather Data for Record 18 of Set 3 | Lorengau\n",
      "Processing Weather Data for Record 19 of Set 3 | New Norfolk\n",
      "Processing Weather Data for Record 20 of Set 3 | Sobolevo\n",
      "Processing Weather Data for Record 21 of Set 3 | Katherine\n",
      "Processing Weather Data for Record 22 of Set 3 | Bluff\n",
      "Processing Weather Data for Record 23 of Set 3 | Emerald\n",
      "Processing Weather Data for Record 24 of Set 3 | Pierre\n",
      "Processing Weather Data for Record 25 of Set 3 | Coyhaique\n",
      "Processing Weather Data for Record 26 of Set 3 | Samarai\n",
      "Processing Weather Data for Record 27 of Set 3 | Beringovskiy\n",
      "Processing Weather Data for Record 28 of Set 3 | Tautira\n"
     ]
    },
    {
     "name": "stdout",
     "output_type": "stream",
     "text": [
      "City not found....Skipping............\n",
      "Processing Weather Data for Record 29 of Set 3 | Nome\n",
      "Processing Weather Data for Record 30 of Set 3 | Santa Vitória do Palmar\n",
      "Processing Weather Data for Record 31 of Set 3 | Ulaangom\n",
      "Processing Weather Data for Record 32 of Set 3 | Atambua\n",
      "Processing Weather Data for Record 33 of Set 3 | Zaraza\n",
      "Processing Weather Data for Record 34 of Set 3 | Mount Gambier\n",
      "Processing Weather Data for Record 35 of Set 3 | Springbok\n",
      "Processing Weather Data for Record 36 of Set 3 | Dvinskoy\n",
      "Processing Weather Data for Record 37 of Set 3 | Riyadh\n",
      "City not found....Skipping............\n",
      "Processing Weather Data for Record 38 of Set 3 | Bubaque\n",
      "Processing Weather Data for Record 39 of Set 3 | Lázaro Cárdenas\n",
      "Processing Weather Data for Record 40 of Set 3 | Kahuta\n",
      "City not found....Skipping............\n",
      "Processing Weather Data for Record 41 of Set 3 | Kimbe\n",
      "City not found....Skipping............\n",
      "City not found....Skipping............\n",
      "Processing Weather Data for Record 42 of Set 3 | Port Blair\n",
      "Processing Weather Data for Record 43 of Set 3 | Komsomol'skiy\n",
      "City not found....Skipping............\n",
      "Processing Weather Data for Record 44 of Set 3 | Safaga\n",
      "Processing Weather Data for Record 45 of Set 3 | Kavaratti\n",
      "Processing Weather Data for Record 46 of Set 3 | Castro\n",
      "Processing Weather Data for Record 47 of Set 3 | Marsá Maţrūḩ\n",
      "Processing Weather Data for Record 48 of Set 3 | Raudeberg\n",
      "Processing Weather Data for Record 49 of Set 3 | Vestmannaeyjar\n",
      "Processing Weather Data for Record 50 of Set 3 | Gaoual\n",
      "Processing Weather Data for Record 1 of Set 4 | Östersund\n",
      "Processing Weather Data for Record 2 of Set 4 | Salekhard\n",
      "Processing Weather Data for Record 3 of Set 4 | Constitucion\n",
      "City not found....Skipping............\n",
      "Processing Weather Data for Record 4 of Set 4 | Hasaki\n",
      "Processing Weather Data for Record 5 of Set 4 | Vila Franca do Campo\n",
      "Processing Weather Data for Record 6 of Set 4 | Geraldton\n",
      "Processing Weather Data for Record 7 of Set 4 | Ishigaki\n",
      "Processing Weather Data for Record 8 of Set 4 | Norman Wells\n",
      "City not found....Skipping............\n",
      "Processing Weather Data for Record 9 of Set 4 | Saldanha\n",
      "Processing Weather Data for Record 10 of Set 4 | Moctezuma\n",
      "Processing Weather Data for Record 11 of Set 4 | Huallanca\n",
      "City not found....Skipping............\n",
      "Processing Weather Data for Record 12 of Set 4 | Te Anau\n",
      "City not found....Skipping............\n",
      "Processing Weather Data for Record 13 of Set 4 | Shimoda\n",
      "Processing Weather Data for Record 14 of Set 4 | Gawler\n",
      "Processing Weather Data for Record 15 of Set 4 | Bathsheba\n",
      "Processing Weather Data for Record 16 of Set 4 | Berbera\n",
      "Processing Weather Data for Record 17 of Set 4 | Qaqortoq\n",
      "Processing Weather Data for Record 18 of Set 4 | Talnakh\n",
      "Processing Weather Data for Record 19 of Set 4 | Mae Hong Son\n",
      "Processing Weather Data for Record 20 of Set 4 | Nushki\n",
      "Processing Weather Data for Record 21 of Set 4 | Tilichiki\n",
      "Processing Weather Data for Record 22 of Set 4 | Mackay\n",
      "Processing Weather Data for Record 23 of Set 4 | Boiro\n",
      "Processing Weather Data for Record 24 of Set 4 | Barrow\n",
      "Processing Weather Data for Record 25 of Set 4 | Mahajanga\n",
      "Processing Weather Data for Record 26 of Set 4 | Morelia\n",
      "Processing Weather Data for Record 27 of Set 4 | Ulladulla\n",
      "Processing Weather Data for Record 28 of Set 4 | Kununurra\n",
      "Processing Weather Data for Record 29 of Set 4 | Bafoulabé\n",
      "Processing Weather Data for Record 30 of Set 4 | Ambilobe\n",
      "Processing Weather Data for Record 31 of Set 4 | Quatre Cocos\n",
      "Processing Weather Data for Record 32 of Set 4 | Paamiut\n",
      "City not found....Skipping............\n",
      "City not found....Skipping............\n",
      "Processing Weather Data for Record 33 of Set 4 | Shache\n",
      "Processing Weather Data for Record 34 of Set 4 | Tiznit Province\n",
      "Processing Weather Data for Record 35 of Set 4 | Prince Rupert\n",
      "Processing Weather Data for Record 36 of Set 4 | Loreto\n",
      "Processing Weather Data for Record 37 of Set 4 | Dakar\n",
      "City not found....Skipping............\n",
      "Processing Weather Data for Record 38 of Set 4 | Souillac\n",
      "Processing Weather Data for Record 39 of Set 4 | Saskylakh\n",
      "Processing Weather Data for Record 40 of Set 4 | Yellowknife\n",
      "Processing Weather Data for Record 41 of Set 4 | Chokurdakh\n",
      "Processing Weather Data for Record 42 of Set 4 | Montluçon\n",
      "Processing Weather Data for Record 43 of Set 4 | Narsaq\n",
      "Processing Weather Data for Record 44 of Set 4 | Qaanaaq\n",
      "Processing Weather Data for Record 45 of Set 4 | Georgetown\n",
      "Processing Weather Data for Record 46 of Set 4 | Port Elizabeth\n",
      "Processing Weather Data for Record 47 of Set 4 | Soyo\n",
      "Processing Weather Data for Record 48 of Set 4 | Mount Isa\n",
      "Processing Weather Data for Record 49 of Set 4 | Santiago del Estero\n",
      "Processing Weather Data for Record 50 of Set 4 | Tessalit\n",
      "Processing Weather Data for Record 1 of Set 5 | Porto Empedocle\n",
      "Processing Weather Data for Record 2 of Set 5 | San Patricio\n",
      "Processing Weather Data for Record 3 of Set 5 | Sambava\n",
      "Processing Weather Data for Record 4 of Set 5 | Cidreira\n",
      "Processing Weather Data for Record 5 of Set 5 | Bonfim\n",
      "Processing Weather Data for Record 6 of Set 5 | Hobart\n",
      "Processing Weather Data for Record 7 of Set 5 | Beira\n",
      "Processing Weather Data for Record 8 of Set 5 | Jiangyou\n",
      "Processing Weather Data for Record 9 of Set 5 | Linhares\n",
      "Processing Weather Data for Record 10 of Set 5 | Havelock\n",
      "City not found....Skipping............\n",
      "Processing Weather Data for Record 11 of Set 5 | Ponta do Sol\n",
      "Processing Weather Data for Record 12 of Set 5 | Walvis Bay\n",
      "Processing Weather Data for Record 13 of Set 5 | Hofn\n",
      "Processing Weather Data for Record 14 of Set 5 | Zaysan\n",
      "Processing Weather Data for Record 15 of Set 5 | Nara\n",
      "Processing Weather Data for Record 16 of Set 5 | Borūjerd\n",
      "Processing Weather Data for Record 17 of Set 5 | Oistins\n",
      "Processing Weather Data for Record 18 of Set 5 | Bandarbeyla\n",
      "Processing Weather Data for Record 19 of Set 5 | Shīeli\n",
      "Processing Weather Data for Record 20 of Set 5 | Zhuanghe\n",
      "Processing Weather Data for Record 21 of Set 5 | Prainha\n",
      "Processing Weather Data for Record 22 of Set 5 | Coos Bay\n",
      "Processing Weather Data for Record 23 of Set 5 | Xining\n",
      "Processing Weather Data for Record 24 of Set 5 | Bilibino\n",
      "Processing Weather Data for Record 25 of Set 5 | Lebu\n",
      "Processing Weather Data for Record 26 of Set 5 | Mananara\n",
      "Processing Weather Data for Record 27 of Set 5 | Birjand\n",
      "City not found....Skipping............\n",
      "Processing Weather Data for Record 28 of Set 5 | Tuatapere\n",
      "Processing Weather Data for Record 29 of Set 5 | Waipawa\n",
      "Processing Weather Data for Record 30 of Set 5 | Tiksi\n",
      "City not found....Skipping............\n",
      "Processing Weather Data for Record 31 of Set 5 | Naze\n",
      "City not found....Skipping............\n",
      "Processing Weather Data for Record 32 of Set 5 | Saint George\n",
      "Processing Weather Data for Record 33 of Set 5 | Grasse\n",
      "Processing Weather Data for Record 34 of Set 5 | Barbosa Ferraz\n",
      "Processing Weather Data for Record 35 of Set 5 | Thinadhoo\n",
      "Processing Weather Data for Record 36 of Set 5 | Carlsbad\n",
      "Processing Weather Data for Record 37 of Set 5 | Katobu\n",
      "Processing Weather Data for Record 38 of Set 5 | Northam\n",
      "Processing Weather Data for Record 39 of Set 5 | Pacific Grove\n",
      "City not found....Skipping............\n",
      "Processing Weather Data for Record 40 of Set 5 | Vostok\n",
      "Processing Weather Data for Record 41 of Set 5 | Nouadhibou\n",
      "Processing Weather Data for Record 42 of Set 5 | Henties Bay\n",
      "Processing Weather Data for Record 43 of Set 5 | Viedma\n",
      "City not found....Skipping............\n",
      "Processing Weather Data for Record 44 of Set 5 | Sitka\n",
      "Processing Weather Data for Record 45 of Set 5 | Jiayuguan City\n",
      "City not found....Skipping............\n",
      "Processing Weather Data for Record 46 of Set 5 | Ibotirama\n",
      "Processing Weather Data for Record 47 of Set 5 | Saint-Pierre\n",
      "Processing Weather Data for Record 48 of Set 5 | Belmonte\n",
      "Processing Weather Data for Record 49 of Set 5 | Gainesville\n",
      "Processing Weather Data for Record 50 of Set 5 | Sabha\n",
      "Processing Weather Data for Record 1 of Set 6 | Saint Augustine\n",
      "City not found....Skipping............\n",
      "Processing Weather Data for Record 2 of Set 6 | Bud\n",
      "Processing Weather Data for Record 3 of Set 6 | Sibu\n",
      "Processing Weather Data for Record 4 of Set 6 | Shinpokh\n",
      "Processing Weather Data for Record 5 of Set 6 | Luján\n"
     ]
    },
    {
     "name": "stdout",
     "output_type": "stream",
     "text": [
      "Processing Weather Data for Record 6 of Set 6 | Flin Flon\n",
      "Processing Weather Data for Record 7 of Set 6 | Umba\n",
      "Processing Weather Data for Record 8 of Set 6 | Port Lincoln\n",
      "Processing Weather Data for Record 9 of Set 6 | Pemberton\n",
      "Processing Weather Data for Record 10 of Set 6 | Winchester\n",
      "Processing Weather Data for Record 11 of Set 6 | Aklavik\n",
      "Processing Weather Data for Record 12 of Set 6 | Tevaitoa\n",
      "Processing Weather Data for Record 13 of Set 6 | Maputo\n",
      "City not found....Skipping............\n",
      "Processing Weather Data for Record 14 of Set 6 | Todos Santos\n",
      "Processing Weather Data for Record 15 of Set 6 | Węgorzewo\n",
      "Processing Weather Data for Record 16 of Set 6 | Turukhansk\n",
      "Processing Weather Data for Record 17 of Set 6 | Ostrovnoy\n",
      "Processing Weather Data for Record 18 of Set 6 | Shaunavon\n",
      "Processing Weather Data for Record 19 of Set 6 | Biak\n",
      "Processing Weather Data for Record 20 of Set 6 | Arman'\n",
      "Processing Weather Data for Record 21 of Set 6 | Havøysund\n",
      "Processing Weather Data for Record 22 of Set 6 | Upata\n",
      "City not found....Skipping............\n",
      "Processing Weather Data for Record 23 of Set 6 | Nemuro\n",
      "Processing Weather Data for Record 24 of Set 6 | Oranjemund\n",
      "City not found....Skipping............\n",
      "Processing Weather Data for Record 25 of Set 6 | Camacupa\n",
      "Processing Weather Data for Record 26 of Set 6 | Farah\n",
      "Processing Weather Data for Record 27 of Set 6 | Mariakani\n",
      "Processing Weather Data for Record 28 of Set 6 | Harrisburg\n",
      "City not found....Skipping............\n",
      "Processing Weather Data for Record 29 of Set 6 | Toora-Khem\n",
      "Processing Weather Data for Record 30 of Set 6 | Okhotsk\n",
      "Processing Weather Data for Record 31 of Set 6 | Berlevåg\n",
      "Processing Weather Data for Record 32 of Set 6 | Maniitsoq\n",
      "Processing Weather Data for Record 33 of Set 6 | Narasapuram\n",
      "Processing Weather Data for Record 34 of Set 6 | Chui\n",
      "Processing Weather Data for Record 35 of Set 6 | Kavieng\n",
      "Processing Weather Data for Record 36 of Set 6 | La Ferté-Bernard\n",
      "Processing Weather Data for Record 37 of Set 6 | Visby\n",
      "Processing Weather Data for Record 38 of Set 6 | Nantucket\n",
      "City not found....Skipping............\n",
      "Processing Weather Data for Record 39 of Set 6 | Plattsburgh\n",
      "Processing Weather Data for Record 40 of Set 6 | Faanui\n",
      "Processing Weather Data for Record 41 of Set 6 | Ahipara\n",
      "City not found....Skipping............\n",
      "Processing Weather Data for Record 42 of Set 6 | Provideniya\n",
      "Processing Weather Data for Record 43 of Set 6 | Hirara\n",
      "Processing Weather Data for Record 44 of Set 6 | Puerto Madryn\n",
      "Processing Weather Data for Record 45 of Set 6 | Gushikawa\n",
      "Processing Weather Data for Record 46 of Set 6 | Olafsvik\n",
      "Processing Weather Data for Record 47 of Set 6 | Sioux Lookout\n",
      "Processing Weather Data for Record 48 of Set 6 | Nieuw Amsterdam\n",
      "Processing Weather Data for Record 49 of Set 6 | Oussouye\n",
      "Processing Weather Data for Record 50 of Set 6 | Coquimbo\n",
      "Processing Weather Data for Record 1 of Set 7 | Alekseyevsk\n",
      "Processing Weather Data for Record 2 of Set 7 | Cascais\n",
      "Processing Weather Data for Record 3 of Set 7 | Baicheng\n",
      "Processing Weather Data for Record 4 of Set 7 | Roald\n",
      "Processing Weather Data for Record 5 of Set 7 | Saint-Leu\n",
      "Processing Weather Data for Record 6 of Set 7 | Aurangabad\n",
      "Processing Weather Data for Record 7 of Set 7 | Sakaiminato\n",
      "Processing Weather Data for Record 8 of Set 7 | Salalah\n",
      "Processing Weather Data for Record 9 of Set 7 | Iracoubo\n",
      "Processing Weather Data for Record 10 of Set 7 | Kieta\n",
      "City not found....Skipping............\n",
      "Processing Weather Data for Record 11 of Set 7 | Trairi\n",
      "Processing Weather Data for Record 12 of Set 7 | Hastings\n",
      "Processing Weather Data for Record 13 of Set 7 | Kassala\n",
      "Processing Weather Data for Record 14 of Set 7 | Namatanai\n",
      "Processing Weather Data for Record 15 of Set 7 | Saint-Augustin\n",
      "Processing Weather Data for Record 16 of Set 7 | Bulgan\n",
      "Processing Weather Data for Record 17 of Set 7 | Udachny\n",
      "Processing Weather Data for Record 18 of Set 7 | Sterling\n",
      "Processing Weather Data for Record 19 of Set 7 | Bhādāsar\n",
      "Processing Weather Data for Record 20 of Set 7 | Pisco\n",
      "Processing Weather Data for Record 21 of Set 7 | Clyde River\n",
      "Processing Weather Data for Record 22 of Set 7 | Caravelas\n",
      "Processing Weather Data for Record 23 of Set 7 | Oudewater\n",
      "Processing Weather Data for Record 24 of Set 7 | Rāyagada\n",
      "Processing Weather Data for Record 25 of Set 7 | Nautla\n",
      "Processing Weather Data for Record 26 of Set 7 | Pachperwa\n",
      "Processing Weather Data for Record 27 of Set 7 | Novobirilyussy\n",
      "Processing Weather Data for Record 28 of Set 7 | Torbay\n",
      "Processing Weather Data for Record 29 of Set 7 | Vanimo\n",
      "City not found....Skipping............\n",
      "Processing Weather Data for Record 30 of Set 7 | Krāslava\n",
      "Processing Weather Data for Record 31 of Set 7 | Arrondissement de Morlaix\n",
      "Processing Weather Data for Record 32 of Set 7 | Mizhou\n",
      "Processing Weather Data for Record 33 of Set 7 | Boa Vista\n",
      "Processing Weather Data for Record 34 of Set 7 | Zeya\n",
      "Processing Weather Data for Record 35 of Set 7 | Bambous Virieux\n",
      "Processing Weather Data for Record 36 of Set 7 | Dunedin\n",
      "Processing Weather Data for Record 37 of Set 7 | Rawson\n",
      "Processing Weather Data for Record 38 of Set 7 | Eyl\n",
      "City not found....Skipping............\n",
      "Processing Weather Data for Record 39 of Set 7 | Téra\n",
      "Processing Weather Data for Record 40 of Set 7 | Petropavlovsk-Kamchatskiy\n",
      "Processing Weather Data for Record 41 of Set 7 | Weihe\n",
      "Processing Weather Data for Record 42 of Set 7 | Ribeira Grande\n",
      "Processing Weather Data for Record 43 of Set 7 | Jizan\n",
      "Processing Weather Data for Record 44 of Set 7 | Agüimes\n",
      "Processing Weather Data for Record 45 of Set 7 | Fairbanks\n",
      "Processing Weather Data for Record 46 of Set 7 | Demba\n",
      "Processing Weather Data for Record 47 of Set 7 | Rovaniemi\n",
      "Processing Weather Data for Record 48 of Set 7 | Panabá\n",
      "City not found....Skipping............\n",
      "Processing Weather Data for Record 49 of Set 7 | Seybaplaya\n",
      "Processing Weather Data for Record 50 of Set 7 | Cascas\n",
      "Processing Weather Data for Record 1 of Set 8 | General Roca\n",
      "Processing Weather Data for Record 2 of Set 8 | Meulaboh\n",
      "Processing Weather Data for Record 3 of Set 8 | Grindavik\n",
      "Processing Weather Data for Record 4 of Set 8 | Sumbal\n",
      "Processing Weather Data for Record 5 of Set 8 | Kiskunmajsa\n",
      "Processing Weather Data for Record 6 of Set 8 | Znamenskoye\n",
      "Processing Weather Data for Record 7 of Set 8 | Kargasok\n",
      "Processing Weather Data for Record 8 of Set 8 | Pemangkat\n",
      "Processing Weather Data for Record 9 of Set 8 | Praia da Vitória\n",
      "Processing Weather Data for Record 10 of Set 8 | Pavlodar\n",
      "Processing Weather Data for Record 11 of Set 8 | Dehui\n",
      "Processing Weather Data for Record 12 of Set 8 | Ilave\n",
      "Processing Weather Data for Record 13 of Set 8 | Imbituba\n",
      "Processing Weather Data for Record 14 of Set 8 | Poum\n",
      "Processing Weather Data for Record 15 of Set 8 | Touros\n",
      "Processing Weather Data for Record 16 of Set 8 | Petatlán\n",
      "Processing Weather Data for Record 17 of Set 8 | Evensk\n",
      "Processing Weather Data for Record 18 of Set 8 | Kenai\n",
      "Processing Weather Data for Record 19 of Set 8 | Richards Bay\n",
      "Processing Weather Data for Record 20 of Set 8 | Beloha\n",
      "Processing Weather Data for Record 21 of Set 8 | Ancud\n",
      "Processing Weather Data for Record 22 of Set 8 | West Bay\n",
      "Processing Weather Data for Record 23 of Set 8 | Cortez\n",
      "Processing Weather Data for Record 24 of Set 8 | Buraidah\n",
      "Processing Weather Data for Record 25 of Set 8 | Miyako\n",
      "Processing Weather Data for Record 26 of Set 8 | Dali\n",
      "Processing Weather Data for Record 27 of Set 8 | Cabedelo\n",
      "City not found....Skipping............\n",
      "Processing Weather Data for Record 28 of Set 8 | Miles City\n",
      "Processing Weather Data for Record 29 of Set 8 | Korla\n",
      "Processing Weather Data for Record 30 of Set 8 | Puerto Baquerizo Moreno\n",
      "Processing Weather Data for Record 31 of Set 8 | Cihuatlán\n",
      "Processing Weather Data for Record 32 of Set 8 | Newberry\n",
      "Processing Weather Data for Record 33 of Set 8 | Tadine\n",
      "Processing Weather Data for Record 34 of Set 8 | Blagoveshchensk\n",
      "Processing Weather Data for Record 35 of Set 8 | North Las Vegas\n",
      "Processing Weather Data for Record 36 of Set 8 | Kutum\n",
      "Processing Weather Data for Record 37 of Set 8 | Winslow\n",
      "Processing Weather Data for Record 38 of Set 8 | Conde\n",
      "Processing Weather Data for Record 39 of Set 8 | Hambantota\n"
     ]
    },
    {
     "name": "stdout",
     "output_type": "stream",
     "text": [
      "Processing Weather Data for Record 40 of Set 8 | Ust-Maya\n",
      "Processing Weather Data for Record 41 of Set 8 | Kinablangan\n",
      "Processing Weather Data for Record 42 of Set 8 | Hanzhong\n",
      "Processing Weather Data for Record 43 of Set 8 | Werda\n",
      "Processing Weather Data for Record 44 of Set 8 | Banda Aceh\n",
      "Processing Weather Data for Record 45 of Set 8 | Alugan\n",
      "Processing Weather Data for Record 46 of Set 8 | Manokwari\n",
      "Processing Weather Data for Record 47 of Set 8 | Diamantino\n",
      "Processing Weather Data for Record 48 of Set 8 | Esso\n",
      "Processing Weather Data for Record 49 of Set 8 | Shahrud\n",
      "Processing Weather Data for Record 50 of Set 8 | Letka\n",
      "Processing Weather Data for Record 1 of Set 9 | Juneau\n",
      "Processing Weather Data for Record 2 of Set 9 | Varhaug\n",
      "Processing Weather Data for Record 3 of Set 9 | Roma\n",
      "Processing Weather Data for Record 4 of Set 9 | Rabo de Peixe\n",
      "Processing Weather Data for Record 5 of Set 9 | Ryōtsu-minato\n",
      "Processing Weather Data for Record 6 of Set 9 | Nouakchott\n",
      "Processing Weather Data for Record 7 of Set 9 | The Valley\n",
      "Processing Weather Data for Record 8 of Set 9 | Wamba\n",
      "Processing Weather Data for Record 9 of Set 9 | Klaksvík\n",
      "Processing Weather Data for Record 10 of Set 9 | Adrar\n",
      "Processing Weather Data for Record 11 of Set 9 | Labuhan\n",
      "Processing Weather Data for Record 12 of Set 9 | Tongchuanshi\n",
      "Processing Weather Data for Record 13 of Set 9 | Pevek\n",
      "Processing Weather Data for Record 14 of Set 9 | Rio Grande\n",
      "Processing Weather Data for Record 15 of Set 9 | Khartoum\n",
      "Processing Weather Data for Record 16 of Set 9 | Kearney\n",
      "Processing Weather Data for Record 17 of Set 9 | Petlāwad\n",
      "Processing Weather Data for Record 18 of Set 9 | La Providencia\n",
      "Processing Weather Data for Record 19 of Set 9 | Vardø\n",
      "Processing Weather Data for Record 20 of Set 9 | Pringsewu\n",
      "Processing Weather Data for Record 21 of Set 9 | Charters Towers\n",
      "Processing Weather Data for Record 22 of Set 9 | Waitati\n",
      "Processing Weather Data for Record 23 of Set 9 | Pochutla\n",
      "Processing Weather Data for Record 24 of Set 9 | Neuquén\n",
      "Processing Weather Data for Record 25 of Set 9 | San Luis de Sincé\n",
      "Processing Weather Data for Record 26 of Set 9 | Ossora\n",
      "City not found....Skipping............\n",
      "Processing Weather Data for Record 27 of Set 9 | Lerwick\n",
      "Processing Weather Data for Record 28 of Set 9 | Bengkulu\n",
      "City not found....Skipping............\n",
      "Processing Weather Data for Record 29 of Set 9 | Denpasar\n",
      "Processing Weather Data for Record 30 of Set 9 | Fortuna Foothills\n",
      "Processing Weather Data for Record 31 of Set 9 | Mashhad\n",
      "Processing Weather Data for Record 32 of Set 9 | Changying\n",
      "Processing Weather Data for Record 33 of Set 9 | Phan Thiet\n",
      "Processing Weather Data for Record 34 of Set 9 | Fort Nelson\n",
      "Processing Weather Data for Record 35 of Set 9 | Lakes Entrance\n",
      "Processing Weather Data for Record 36 of Set 9 | Mineral Wells\n",
      "Processing Weather Data for Record 37 of Set 9 | Ape\n",
      "Processing Weather Data for Record 38 of Set 9 | Teknāf\n",
      "Processing Weather Data for Record 39 of Set 9 | Maryborough\n",
      "Processing Weather Data for Record 40 of Set 9 | Bani Walid\n",
      "Processing Weather Data for Record 41 of Set 9 | Xichang\n",
      "Processing Weather Data for Record 42 of Set 9 | Inhambane\n",
      "Processing Weather Data for Record 43 of Set 9 | Toppenish\n",
      "Processing Weather Data for Record 44 of Set 9 | Charter Township of Clinton\n",
      "Processing Weather Data for Record 45 of Set 9 | Gao\n",
      "Processing Weather Data for Record 46 of Set 9 | Poltavka\n",
      "Processing Weather Data for Record 47 of Set 9 | Illéla\n",
      "Processing Weather Data for Record 48 of Set 9 | San Cosme y Damián\n",
      "Processing Weather Data for Record 49 of Set 9 | Gambēla\n",
      "Processing Weather Data for Record 50 of Set 9 | Poptún\n",
      "Processing Weather Data for Record 1 of Set 10 | Vacaville\n",
      "Processing Weather Data for Record 2 of Set 10 | Erciş\n",
      "Processing Weather Data for Record 3 of Set 10 | Kotār\n",
      "Processing Weather Data for Record 4 of Set 10 | Tres Arroyos\n",
      "Processing Weather Data for Record 5 of Set 10 | Basqal\n",
      "Processing Weather Data for Record 6 of Set 10 | Ponazyrevo\n",
      "Processing Weather Data for Record 7 of Set 10 | Samandağ\n",
      "Processing Weather Data for Record 8 of Set 10 | Khandyga\n",
      "City not found....Skipping............\n",
      "Processing Weather Data for Record 9 of Set 10 | Verkhoyansk\n",
      "Processing Weather Data for Record 10 of Set 10 | Chittarkonda\n",
      "Processing Weather Data for Record 11 of Set 10 | Penticton\n",
      "Processing Weather Data for Record 12 of Set 10 | Puerto Nariño\n",
      "Processing Weather Data for Record 13 of Set 10 | Plettenberg Bay\n",
      "Processing Weather Data for Record 14 of Set 10 | Waingapu\n",
      "Processing Weather Data for Record 15 of Set 10 | Luang Prabang\n",
      "Processing Weather Data for Record 16 of Set 10 | Hatillo de Loba\n",
      "Processing Weather Data for Record 17 of Set 10 | Dārāb\n",
      "Processing Weather Data for Record 18 of Set 10 | Iisalmi\n",
      "Processing Weather Data for Record 19 of Set 10 | Fortuna\n",
      "Processing Weather Data for Record 20 of Set 10 | Chokwé\n",
      "Processing Weather Data for Record 21 of Set 10 | Hobyo\n",
      "Processing Weather Data for Record 22 of Set 10 | Srednekolymsk\n",
      "Processing Weather Data for Record 23 of Set 10 | Canguçu\n",
      "City not found....Skipping............\n",
      "City not found....Skipping............\n",
      "Processing Weather Data for Record 24 of Set 10 | Nichinan\n",
      "Processing Weather Data for Record 25 of Set 10 | Kloulklubed\n",
      "Processing Weather Data for Record 26 of Set 10 | Ternate\n",
      "Processing Weather Data for Record 27 of Set 10 | Troitsko-Pechorsk\n",
      "Processing Weather Data for Record 28 of Set 10 | Eureka\n",
      "Processing Weather Data for Record 29 of Set 10 | Opuwo\n",
      "Processing Weather Data for Record 30 of Set 10 | Lehigh Acres\n",
      "Processing Weather Data for Record 31 of Set 10 | Dalianwan\n",
      "Processing Weather Data for Record 32 of Set 10 | Lavrentiya\n",
      "City not found....Skipping............\n",
      "Processing Weather Data for Record 33 of Set 10 | Cantaura\n",
      "Processing Weather Data for Record 34 of Set 10 | Krasnosel'kup\n",
      "Processing Weather Data for Record 35 of Set 10 | Cloquet\n",
      "Processing Weather Data for Record 36 of Set 10 | North Bend\n",
      "Processing Weather Data for Record 37 of Set 10 | Port Macquarie\n",
      "City not found....Skipping............\n",
      "Processing Weather Data for Record 38 of Set 10 | Pouébo\n",
      "Processing Weather Data for Record 39 of Set 10 | Dicabisagan\n",
      "Processing Weather Data for Record 40 of Set 10 | Alpena\n",
      "Processing Weather Data for Record 41 of Set 10 | Oruzgan\n",
      "Processing Weather Data for Record 42 of Set 10 | Diu\n",
      "Processing Weather Data for Record 43 of Set 10 | Thayetmyo\n",
      "City not found....Skipping............\n",
      "Processing Weather Data for Record 44 of Set 10 | General Pico\n",
      "Processing Weather Data for Record 45 of Set 10 | Brae\n",
      "Processing Weather Data for Record 46 of Set 10 | Morristown\n",
      "Processing Weather Data for Record 47 of Set 10 | Kirensk\n",
      "Processing Weather Data for Record 48 of Set 10 | Horsham\n",
      "Processing Weather Data for Record 49 of Set 10 | Colares\n",
      "Processing Weather Data for Record 50 of Set 10 | Woodstock\n",
      "Processing Weather Data for Record 1 of Set 11 | Atar\n",
      "Processing Weather Data for Record 2 of Set 11 | Portland\n",
      "Processing Weather Data for Record 3 of Set 11 | San Jeronimo\n",
      "Processing Weather Data for Record 4 of Set 11 | Bambanglipuro\n",
      "Processing Weather Data for Record 5 of Set 11 | Carahue\n",
      "City not found....Skipping............\n",
      "Processing Weather Data for Record 6 of Set 11 | Igrim\n",
      "Processing Weather Data for Record 7 of Set 11 | Gölköy\n",
      "Processing Weather Data for Record 8 of Set 11 | Sal Rei\n",
      "Processing Weather Data for Record 9 of Set 11 | Belaya Gora\n",
      "Processing Weather Data for Record 10 of Set 11 | Indiana\n",
      "Processing Weather Data for Record 11 of Set 11 | Innisfail\n",
      "Processing Weather Data for Record 12 of Set 11 | Langsa\n",
      "Processing Weather Data for Record 13 of Set 11 | Mattru\n",
      "Processing Weather Data for Record 14 of Set 11 | Bata\n",
      "Processing Weather Data for Record 15 of Set 11 | Grand Gaube\n",
      "Processing Weather Data for Record 16 of Set 11 | Odžaci\n",
      "Processing Weather Data for Record 17 of Set 11 | Jiaocheng\n",
      "Processing Weather Data for Record 18 of Set 11 | Kumul\n",
      "Processing Weather Data for Record 19 of Set 11 | Bad Hofgastein\n",
      "Processing Weather Data for Record 20 of Set 11 | Itarema\n",
      "Processing Weather Data for Record 21 of Set 11 | Gayéri\n",
      "Processing Weather Data for Record 22 of Set 11 | Buochs\n"
     ]
    },
    {
     "name": "stdout",
     "output_type": "stream",
     "text": [
      "Processing Weather Data for Record 23 of Set 11 | High Level\n",
      "Processing Weather Data for Record 24 of Set 11 | Gamba\n",
      "Processing Weather Data for Record 25 of Set 11 | Los Llanos de Aridane\n",
      "City not found....Skipping............\n",
      "\n",
      "-----------------------------\n",
      "Data Retrival Complete\n",
      "-----------------------------\n"
     ]
    }
   ],
   "source": [
    "# Keep track of response number\n",
    "RecordNum = 1\n",
    "RecordSet = 1\n",
    "\n",
    "# Base URL\n",
    "base_url = 'http://api.openweathermap.org/data/2.5/weather?q='\n",
    "\n",
    "#Run the API for each city\n",
    "print('''\n",
    "______________________________\n",
    "Beginning Data Retrieval\n",
    "______________________________''')\n",
    "\n",
    "# Loop through cities in API and add to dataframe\n",
    "for index, row in WeatherDF.iterrows():\n",
    "    # Query URL for API call\n",
    "    query_url = base_url + row['City'] + ',' + row['Country'] + '&units=imperial'+'&APPID=' + weather_api_key\n",
    "    # API Call\n",
    "    response = requests.get(query_url).json()\n",
    "\n",
    "    # Exception script if city is not found and adding info to data frame if it is\n",
    "    try:\n",
    "        # Message that computer is looking for data\n",
    "        print(f'Processing Weather Data for Record {RecordNum} of Set {RecordSet} | {response[\"name\"]}')\n",
    "        \n",
    "        # Input data into DataFrame\n",
    "        WeatherDF.loc[index, 'Cloudiness'] = response['clouds']['all']\n",
    "        WeatherDF.loc[index, 'Date'] = response['dt']\n",
    "        WeatherDF.loc[index, 'Humidity'] = response['main']['humidity']\n",
    "        WeatherDF.loc[index, 'Lat'] = response['coord']['lat']\n",
    "        WeatherDF.loc[index, 'Lng'] = response['coord']['lon']\n",
    "        WeatherDF.loc[index, 'Max Temp'] = response['main']['temp_max']\n",
    "        WeatherDF.loc[index, 'Wind Speed'] = response['wind']['speed']\n",
    "        \n",
    "        # Increase the record count\n",
    "        RecordNum += 1\n",
    "        \n",
    "    except (KeyError, IndexError):\n",
    "        print(\"City not found....Skipping............\")\n",
    "        \n",
    "    # If statement to handle API call limits\n",
    "    if RecordNum == 51:\n",
    "        RecordSet += 1\n",
    "        RecordNum = 1\n",
    "        time.sleep(60)\n",
    "        \n",
    "print('''\n",
    "-----------------------------\n",
    "Data Retrival Complete\n",
    "-----------------------------''')"
   ]
  },
  {
   "cell_type": "markdown",
   "metadata": {},
   "source": [
    "### Convert Raw Data to DataFrame\n",
    "* Export the city data into a .csv.\n",
    "* Display the DataFrame"
   ]
  },
  {
   "cell_type": "code",
   "execution_count": 6,
   "metadata": {},
   "outputs": [
    {
     "name": "stdout",
     "output_type": "stream",
     "text": [
      "City          584\n",
      "Country       584\n",
      "Lat           584\n",
      "Lng           584\n",
      "Max Temp      584\n",
      "Humidity      584\n",
      "Cloudiness    584\n",
      "Wind Speed    584\n",
      "Date          584\n",
      "dtype: int64\n"
     ]
    },
    {
     "data": {
      "text/html": [
       "<div>\n",
       "<style scoped>\n",
       "    .dataframe tbody tr th:only-of-type {\n",
       "        vertical-align: middle;\n",
       "    }\n",
       "\n",
       "    .dataframe tbody tr th {\n",
       "        vertical-align: top;\n",
       "    }\n",
       "\n",
       "    .dataframe thead th {\n",
       "        text-align: right;\n",
       "    }\n",
       "</style>\n",
       "<table border=\"1\" class=\"dataframe\">\n",
       "  <thead>\n",
       "    <tr style=\"text-align: right;\">\n",
       "      <th></th>\n",
       "      <th>City</th>\n",
       "      <th>Country</th>\n",
       "      <th>Lat</th>\n",
       "      <th>Lng</th>\n",
       "      <th>Max Temp</th>\n",
       "      <th>Humidity</th>\n",
       "      <th>Cloudiness</th>\n",
       "      <th>Wind Speed</th>\n",
       "      <th>Date</th>\n",
       "    </tr>\n",
       "  </thead>\n",
       "  <tbody>\n",
       "    <tr>\n",
       "      <th>0</th>\n",
       "      <td>playa vicente</td>\n",
       "      <td>MX</td>\n",
       "      <td>17.8333</td>\n",
       "      <td>-95.8167</td>\n",
       "      <td>89.64</td>\n",
       "      <td>51</td>\n",
       "      <td>100</td>\n",
       "      <td>2.26</td>\n",
       "      <td>1621210423</td>\n",
       "    </tr>\n",
       "    <tr>\n",
       "      <th>1</th>\n",
       "      <td>kalmunai</td>\n",
       "      <td>LK</td>\n",
       "      <td>7.4167</td>\n",
       "      <td>81.8167</td>\n",
       "      <td>80.71</td>\n",
       "      <td>80</td>\n",
       "      <td>29</td>\n",
       "      <td>3.06</td>\n",
       "      <td>1621210704</td>\n",
       "    </tr>\n",
       "    <tr>\n",
       "      <th>2</th>\n",
       "      <td>grand river south east</td>\n",
       "      <td>MU</td>\n",
       "      <td></td>\n",
       "      <td></td>\n",
       "      <td></td>\n",
       "      <td></td>\n",
       "      <td></td>\n",
       "      <td></td>\n",
       "      <td></td>\n",
       "    </tr>\n",
       "    <tr>\n",
       "      <th>3</th>\n",
       "      <td>rikitea</td>\n",
       "      <td>PF</td>\n",
       "      <td>-23.1203</td>\n",
       "      <td>-134.969</td>\n",
       "      <td>75.07</td>\n",
       "      <td>59</td>\n",
       "      <td>100</td>\n",
       "      <td>9.62</td>\n",
       "      <td>1621210704</td>\n",
       "    </tr>\n",
       "    <tr>\n",
       "      <th>4</th>\n",
       "      <td>linxia</td>\n",
       "      <td>CN</td>\n",
       "      <td>35.6003</td>\n",
       "      <td>103.206</td>\n",
       "      <td>52.63</td>\n",
       "      <td>42</td>\n",
       "      <td>100</td>\n",
       "      <td>1.32</td>\n",
       "      <td>1621210705</td>\n",
       "    </tr>\n",
       "  </tbody>\n",
       "</table>\n",
       "</div>"
      ],
      "text/plain": [
       "                     City Country      Lat      Lng Max Temp Humidity  \\\n",
       "0           playa vicente      MX  17.8333 -95.8167    89.64       51   \n",
       "1                kalmunai      LK   7.4167  81.8167    80.71       80   \n",
       "2  grand river south east      MU                                       \n",
       "3                 rikitea      PF -23.1203 -134.969    75.07       59   \n",
       "4                  linxia      CN  35.6003  103.206    52.63       42   \n",
       "\n",
       "  Cloudiness Wind Speed        Date  \n",
       "0        100       2.26  1621210423  \n",
       "1         29       3.06  1621210704  \n",
       "2                                    \n",
       "3        100       9.62  1621210704  \n",
       "4        100       1.32  1621210705  "
      ]
     },
     "execution_count": 6,
     "metadata": {},
     "output_type": "execute_result"
    }
   ],
   "source": [
    "# Drop rows with no info\n",
    "WeatherDF.dropna()\n",
    "\n",
    "print(WeatherDF.count())\n",
    "# Save to csv\n",
    "WeatherDF.to_csv(\"Output/WeatherDF.csv\")\n",
    "\n",
    "# Preview the dataframe\n",
    "WeatherDF.head()\n"
   ]
  },
  {
   "cell_type": "code",
   "execution_count": 7,
   "metadata": {},
   "outputs": [
    {
     "name": "stdout",
     "output_type": "stream",
     "text": [
      "City          object\n",
      "Country       object\n",
      "Lat           object\n",
      "Lng           object\n",
      "Max Temp      object\n",
      "Humidity      object\n",
      "Cloudiness    object\n",
      "Wind Speed    object\n",
      "Date          object\n",
      "dtype: object\n"
     ]
    }
   ],
   "source": [
    "# Convert into Dataframe\n",
    "WeatherDF = pd.DataFrame(WeatherDF)\n",
    "print(WeatherDF.dtypes)"
   ]
  },
  {
   "cell_type": "code",
   "execution_count": 8,
   "metadata": {},
   "outputs": [
    {
     "name": "stdout",
     "output_type": "stream",
     "text": [
      "City           object\n",
      "Country        object\n",
      "Lat           float64\n",
      "Lng           float64\n",
      "Max Temp      float64\n",
      "Humidity      float64\n",
      "Cloudiness    float64\n",
      "Wind Speed    float64\n",
      "Date          float64\n",
      "dtype: object\n"
     ]
    }
   ],
   "source": [
    "# Convert string to float\n",
    "WeatherDF['Lat'] = pd.to_numeric(WeatherDF['Lat'], errors = 'coerce')\n",
    "WeatherDF['Lng'] = pd.to_numeric(WeatherDF['Lng'], errors = 'coerce')\n",
    "WeatherDF['Max Temp'] = pd.to_numeric(WeatherDF['Max Temp'], errors = 'coerce')\n",
    "WeatherDF['Humidity'] = pd.to_numeric(WeatherDF['Humidity'], errors = 'coerce')\n",
    "WeatherDF['Cloudiness'] = pd.to_numeric(WeatherDF['Cloudiness'], errors = 'coerce')\n",
    "WeatherDF['Date'] = pd.to_numeric(WeatherDF['Date'], errors = 'coerce')\n",
    "WeatherDF['Wind Speed'] = pd.to_numeric(WeatherDF['Wind Speed'], errors = 'coerce')\n",
    "\n",
    "print(WeatherDF.dtypes)"
   ]
  },
  {
   "cell_type": "code",
   "execution_count": 9,
   "metadata": {},
   "outputs": [
    {
     "data": {
      "text/html": [
       "<div>\n",
       "<style scoped>\n",
       "    .dataframe tbody tr th:only-of-type {\n",
       "        vertical-align: middle;\n",
       "    }\n",
       "\n",
       "    .dataframe tbody tr th {\n",
       "        vertical-align: top;\n",
       "    }\n",
       "\n",
       "    .dataframe thead th {\n",
       "        text-align: right;\n",
       "    }\n",
       "</style>\n",
       "<table border=\"1\" class=\"dataframe\">\n",
       "  <thead>\n",
       "    <tr style=\"text-align: right;\">\n",
       "      <th></th>\n",
       "      <th>Lat</th>\n",
       "      <th>Lng</th>\n",
       "      <th>Max Temp</th>\n",
       "      <th>Humidity</th>\n",
       "      <th>Cloudiness</th>\n",
       "      <th>Wind Speed</th>\n",
       "      <th>Date</th>\n",
       "    </tr>\n",
       "  </thead>\n",
       "  <tbody>\n",
       "    <tr>\n",
       "      <th>count</th>\n",
       "      <td>525.000000</td>\n",
       "      <td>525.000000</td>\n",
       "      <td>525.000000</td>\n",
       "      <td>525.000000</td>\n",
       "      <td>525.000000</td>\n",
       "      <td>525.000000</td>\n",
       "      <td>5.250000e+02</td>\n",
       "    </tr>\n",
       "    <tr>\n",
       "      <th>mean</th>\n",
       "      <td>18.971123</td>\n",
       "      <td>19.245334</td>\n",
       "      <td>63.697848</td>\n",
       "      <td>68.782857</td>\n",
       "      <td>53.984762</td>\n",
       "      <td>8.052133</td>\n",
       "      <td>1.621211e+09</td>\n",
       "    </tr>\n",
       "    <tr>\n",
       "      <th>std</th>\n",
       "      <td>34.116916</td>\n",
       "      <td>92.073411</td>\n",
       "      <td>17.131622</td>\n",
       "      <td>23.367674</td>\n",
       "      <td>37.938426</td>\n",
       "      <td>5.286492</td>\n",
       "      <td>2.541993e+02</td>\n",
       "    </tr>\n",
       "    <tr>\n",
       "      <th>min</th>\n",
       "      <td>-54.800000</td>\n",
       "      <td>-175.200000</td>\n",
       "      <td>12.200000</td>\n",
       "      <td>4.000000</td>\n",
       "      <td>0.000000</td>\n",
       "      <td>0.310000</td>\n",
       "      <td>1.621210e+09</td>\n",
       "    </tr>\n",
       "    <tr>\n",
       "      <th>25%</th>\n",
       "      <td>-9.800000</td>\n",
       "      <td>-60.279800</td>\n",
       "      <td>51.800000</td>\n",
       "      <td>55.000000</td>\n",
       "      <td>17.000000</td>\n",
       "      <td>4.090000</td>\n",
       "      <td>1.621211e+09</td>\n",
       "    </tr>\n",
       "    <tr>\n",
       "      <th>50%</th>\n",
       "      <td>22.075200</td>\n",
       "      <td>23.371600</td>\n",
       "      <td>66.070000</td>\n",
       "      <td>74.000000</td>\n",
       "      <td>64.000000</td>\n",
       "      <td>6.910000</td>\n",
       "      <td>1.621211e+09</td>\n",
       "    </tr>\n",
       "    <tr>\n",
       "      <th>75%</th>\n",
       "      <td>46.974000</td>\n",
       "      <td>101.766700</td>\n",
       "      <td>77.630000</td>\n",
       "      <td>87.000000</td>\n",
       "      <td>90.000000</td>\n",
       "      <td>11.430000</td>\n",
       "      <td>1.621211e+09</td>\n",
       "    </tr>\n",
       "    <tr>\n",
       "      <th>max</th>\n",
       "      <td>78.218600</td>\n",
       "      <td>179.316700</td>\n",
       "      <td>99.390000</td>\n",
       "      <td>100.000000</td>\n",
       "      <td>100.000000</td>\n",
       "      <td>29.930000</td>\n",
       "      <td>1.621212e+09</td>\n",
       "    </tr>\n",
       "  </tbody>\n",
       "</table>\n",
       "</div>"
      ],
      "text/plain": [
       "              Lat         Lng    Max Temp    Humidity  Cloudiness  Wind Speed  \\\n",
       "count  525.000000  525.000000  525.000000  525.000000  525.000000  525.000000   \n",
       "mean    18.971123   19.245334   63.697848   68.782857   53.984762    8.052133   \n",
       "std     34.116916   92.073411   17.131622   23.367674   37.938426    5.286492   \n",
       "min    -54.800000 -175.200000   12.200000    4.000000    0.000000    0.310000   \n",
       "25%     -9.800000  -60.279800   51.800000   55.000000   17.000000    4.090000   \n",
       "50%     22.075200   23.371600   66.070000   74.000000   64.000000    6.910000   \n",
       "75%     46.974000  101.766700   77.630000   87.000000   90.000000   11.430000   \n",
       "max     78.218600  179.316700   99.390000  100.000000  100.000000   29.930000   \n",
       "\n",
       "               Date  \n",
       "count  5.250000e+02  \n",
       "mean   1.621211e+09  \n",
       "std    2.541993e+02  \n",
       "min    1.621210e+09  \n",
       "25%    1.621211e+09  \n",
       "50%    1.621211e+09  \n",
       "75%    1.621211e+09  \n",
       "max    1.621212e+09  "
      ]
     },
     "execution_count": 9,
     "metadata": {},
     "output_type": "execute_result"
    }
   ],
   "source": [
    "WeatherDF.describe()"
   ]
  },
  {
   "cell_type": "markdown",
   "metadata": {},
   "source": [
    "## Inspect the data and remove the cities where the humidity > 100%.\n",
    "----\n",
    "Skip this step if there are no cities that have humidity > 100%. \n",
    "\n",
    "\n",
    "THERE ARE NO CITIES WITH HUMIDITY OVER 100%"
   ]
  },
  {
   "cell_type": "markdown",
   "metadata": {},
   "source": [
    "## Plotting the Data\n",
    "* Use proper labeling of the plots using plot titles (including date of analysis) and axes labels.\n",
    "* Save the plotted figures as .pngs."
   ]
  },
  {
   "cell_type": "markdown",
   "metadata": {},
   "source": [
    "## Latitude vs. Temperature Plot"
   ]
  },
  {
   "cell_type": "code",
   "execution_count": 10,
   "metadata": {},
   "outputs": [
    {
     "data": {
      "image/png": "[encoded data removed]",
      "text/plain": [
       "<Figure size 432x288 with 1 Axes>"
      ]
     },
     "metadata": {
      "needs_background": "light"
     },
     "output_type": "display_data"
    }
   ],
   "source": [
    "x = WeatherDF['Lat']\n",
    "y = WeatherDF['Max Temp']\n",
    "plt.scatter(x,y)\n",
    "plt.xlabel(\"Latitude\")\n",
    "plt.ylabel('Max Temperature (F)')\n",
    "plt.title(f'City Latitude vs Max Temperature {time.strftime(\"%m/%d/%Y\")}')\n",
    "plt.grid(True)\n",
    "\n",
    "# Print plot\n",
    "plt.savefig(\"Output/Latitude_vs_Max_Temp.png\")"
   ]
  },
  {
   "cell_type": "markdown",
   "metadata": {},
   "source": [
    "# Analysis\n",
    "\n",
    "As expected, we can see in this scatter plot that the weather gets warmer the closer the latitude is equal to zero (the closer you get to the equator.) It looks like the weather is nicest from -20 to 20 latitude and drops off out side of that range."
   ]
  },
  {
   "cell_type": "markdown",
   "metadata": {},
   "source": [
    "## Latitude vs. Humidity Plot"
   ]
  },
  {
   "cell_type": "code",
   "execution_count": 11,
   "metadata": {},
   "outputs": [
    {
     "data": {
      "image/png": "[encoded data removed]",
      "text/plain": [
       "<Figure size 432x288 with 1 Axes>"
      ]
     },
     "metadata": {
      "needs_background": "light"
     },
     "output_type": "display_data"
    }
   ],
   "source": [
    "# Scatter plot of Latitude vs Humdity\n",
    "x = WeatherDF['Lat']\n",
    "y = WeatherDF['Humidity']\n",
    "plt.scatter(x,y)\n",
    "plt.xlabel(\"Latitude\")\n",
    "plt.ylabel('Humdity (%)')\n",
    "plt.title(f'City Latitude vs Humdity {time.strftime(\"%m/%d/%Y\")}')\n",
    "plt.grid(True)\n",
    "\n",
    "# Print/save scatterplot\n",
    "plt.savefig(\"Output/Latitude_vs_Humidity.png\")"
   ]
  },
  {
   "cell_type": "markdown",
   "metadata": {
    "scrolled": true
   },
   "source": [
    "# Analysis\n",
    "\n",
    "There is no relationship between Latitude and Humdity."
   ]
  },
  {
   "cell_type": "markdown",
   "metadata": {},
   "source": [
    "## Latitude vs. Cloudiness Plot"
   ]
  },
  {
   "cell_type": "code",
   "execution_count": 12,
   "metadata": {},
   "outputs": [
    {
     "data": {
      "image/png": "[encoded data removed]",
      "text/plain": [
       "<Figure size 432x288 with 1 Axes>"
      ]
     },
     "metadata": {
      "needs_background": "light"
     },
     "output_type": "display_data"
    }
   ],
   "source": [
    "# Scatter Plot of Latitude vs Cloudiness\n",
    "x = WeatherDF['Lat']\n",
    "y = WeatherDF['Cloudiness']\n",
    "plt.scatter(x,y)\n",
    "plt.xlabel(\"Latitude\")\n",
    "plt.ylabel('Cloudiness (%)')\n",
    "plt.title(f'City Latitude vs Cloudiness {time.strftime(\"%m/%d/%Y\")}')\n",
    "plt.grid(True)\n",
    "\n",
    "# Print/save plot\n",
    "plt.savefig(\"Output/Latitude_vs_Cloudiness.png\")"
   ]
  },
  {
   "cell_type": "markdown",
   "metadata": {
    "scrolled": true
   },
   "source": [
    "# Analysis\n",
    "\n",
    "There is no relationship between Latitude and Cloudiness"
   ]
  },
  {
   "cell_type": "markdown",
   "metadata": {},
   "source": [
    "## Latitude vs. Wind Speed Plot"
   ]
  },
  {
   "cell_type": "code",
   "execution_count": 13,
   "metadata": {},
   "outputs": [
    {
     "data": {
      "image/png": "[encoded data removed]",
      "text/plain": [
       "<Figure size 432x288 with 1 Axes>"
      ]
     },
     "metadata": {
      "needs_background": "light"
     },
     "output_type": "display_data"
    }
   ],
   "source": [
    "# Scatter plot of Latitude vs Wind Speed\n",
    "x = WeatherDF['Lat']\n",
    "y = WeatherDF['Wind Speed']\n",
    "plt.scatter(x,y)\n",
    "plt.xlabel(\"Latitude\")\n",
    "plt.ylabel('Wind Speed (mph)')\n",
    "plt.title(f'City Latitude vs Wind Speed {time.strftime(\"%m/%d/%Y\")}')\n",
    "plt.grid(True)\n",
    "\n",
    "#Print plot\n",
    "plt.savefig(\"Output/Latitude_vs_Wind_Speed.png\")"
   ]
  },
  {
   "cell_type": "markdown",
   "metadata": {
    "scrolled": true
   },
   "source": [
    "# Analysis\n",
    "\n",
    "There is no relationship between Latitude and Wind Speed."
   ]
  },
  {
   "cell_type": "markdown",
   "metadata": {},
   "source": [
    "## Linear Regression"
   ]
  },
  {
   "cell_type": "code",
   "execution_count": 14,
   "metadata": {},
   "outputs": [],
   "source": [
    "# Add Southern/Northern Hemisphere dataframes\n",
    "NorthernDF = WeatherDF.query(f\"Lat >= 0\")\n",
    "SouthernDF = WeatherDF.query(f\"Lat <= 0\")"
   ]
  },
  {
   "cell_type": "markdown",
   "metadata": {},
   "source": [
    "####  Northern Hemisphere - Max Temp vs. Latitude Linear Regression"
   ]
  },
  {
   "cell_type": "code",
   "execution_count": 15,
   "metadata": {},
   "outputs": [
    {
     "name": "stdout",
     "output_type": "stream",
     "text": [
      "The correlation between Max Temp and Latitude for the Northern Hemisphere is -0.87\n"
     ]
    },
    {
     "data": {
      "image/png": "[encoded data removed]",
      "text/plain": [
       "<Figure size 432x288 with 1 Axes>"
      ]
     },
     "metadata": {
      "needs_background": "light"
     },
     "output_type": "display_data"
    }
   ],
   "source": [
    "#Set Axis\n",
    "x_axis = NorthernDF['Lat']\n",
    "y_axis = NorthernDF['Max Temp']\n",
    "# Pearson R\n",
    "r = st.pearsonr(x_axis, y_axis)\n",
    "print(f\"The correlation between Max Temp and Latitude for the Northern Hemisphere is {round(r[0],2)}\")\n",
    "\n",
    "# Linear regression model\n",
    "(slope, intercept, rvalue, pvalue, stderr) = st.linregress(x_axis, y_axis)\n",
    "regress_values = x_axis * slope + intercept\n",
    "line_eq = \"y = \" + str(round(slope,2)) + \"x + \" + str(round(intercept,2))\n",
    "\n",
    "# Plot\n",
    "plt.scatter(x_axis, y_axis)\n",
    "plt.plot(x_axis, regress_values, \"r-\")\n",
    "plt.annotate(line_eq,(10,20),fontsize=15,color=\"red\")\n",
    "\n",
    "# Add labels and title\n",
    "plt.xlabel('Latitude')\n",
    "plt.ylabel('Max Temp')\n",
    "plt.title('Northern Hemisphere Max Temp vs Latitude')\n",
    "\n",
    "# Show plot\n",
    "plt.show\n",
    "\n",
    "#Print plot\n",
    "plt.savefig(\"Output/Northern_Latitude_vs_Max_Temp.png\")"
   ]
  },
  {
   "cell_type": "markdown",
   "metadata": {
    "scrolled": true
   },
   "source": [
    "# Analysis\n",
    "\n",
    "There is a very clear relationship between latitude and temperature! The higher the latitude, the lower the max temp."
   ]
  },
  {
   "cell_type": "markdown",
   "metadata": {},
   "source": [
    "####  Southern Hemisphere - Max Temp vs. Latitude Linear Regression"
   ]
  },
  {
   "cell_type": "code",
   "execution_count": 16,
   "metadata": {},
   "outputs": [
    {
     "name": "stdout",
     "output_type": "stream",
     "text": [
      "The correlation between Max Temp and Latitude for the Southern Hemisphere is 0.79\n"
     ]
    },
    {
     "data": {
      "image/png": "[encoded data removed]",
      "text/plain": [
       "<Figure size 432x288 with 1 Axes>"
      ]
     },
     "metadata": {
      "needs_background": "light"
     },
     "output_type": "display_data"
    }
   ],
   "source": [
    "#Set Axis\n",
    "x_axis = SouthernDF['Lat']\n",
    "y_axis = SouthernDF['Max Temp']\n",
    "# Pearson R\n",
    "r = st.pearsonr(x_axis, y_axis)\n",
    "print(f\"The correlation between Max Temp and Latitude for the Southern Hemisphere is {round(r[0],2)}\")\n",
    "\n",
    "# Linear regression model\n",
    "(slope, intercept, rvalue, pvalue, stderr) = st.linregress(x_axis, y_axis)\n",
    "regress_values = x_axis * slope + intercept\n",
    "line_eq = \"y = \" + str(round(slope,2)) + \"x + \" + str(round(intercept,2))\n",
    "\n",
    "# Plot\n",
    "plt.scatter(x_axis, y_axis)\n",
    "plt.plot(x_axis, regress_values, \"r-\")\n",
    "plt.annotate(line_eq,(-30,40),fontsize=15,color=\"red\")\n",
    "\n",
    "# Add labels and title\n",
    "plt.xlabel('Latitude')\n",
    "plt.ylabel('Max Temp')\n",
    "plt.title('Southern Hemisphere Max Temp vs Latitude')\n",
    "\n",
    "# Show plot\n",
    "plt.show\n",
    "\n",
    "#Print plot\n",
    "plt.savefig(\"Output/Southern_Latitude_vs_Max_Temp.png\")"
   ]
  },
  {
   "cell_type": "markdown",
   "metadata": {},
   "source": [
    "# Analysis\n",
    "\n",
    "There is still a relationship between the further you get from the equator then it is colder. However, the correlation is not as strong as the northern hemisphere. "
   ]
  },
  {
   "cell_type": "markdown",
   "metadata": {},
   "source": [
    "####  Northern Hemisphere - Humidity (%) vs. Latitude Linear Regression"
   ]
  },
  {
   "cell_type": "code",
   "execution_count": 28,
   "metadata": {},
   "outputs": [
    {
     "name": "stdout",
     "output_type": "stream",
     "text": [
      "The correlation between Humidity and Latitude for the Northern Hemisphere is 0.13\n"
     ]
    },
    {
     "data": {
      "image/png": "[encoded data removed]",
      "text/plain": [
       "<Figure size 432x288 with 1 Axes>"
      ]
     },
     "metadata": {
      "needs_background": "light"
     },
     "output_type": "display_data"
    }
   ],
   "source": [
    "#Set Axis\n",
    "x_axis = NorthernDF['Lat']\n",
    "y_axis = NorthernDF['Humidity']\n",
    "# Pearson R\n",
    "r = st.pearsonr(x_axis, y_axis)\n",
    "print(f\"The correlation between Humidity and Latitude for the Northern Hemisphere is {round(r[0],2)}\")\n",
    "\n",
    "# Linear regression model\n",
    "(slope, intercept, rvalue, pvalue, stderr) = st.linregress(x_axis, y_axis)\n",
    "regress_values = x_axis * slope + intercept\n",
    "line_eq = \"y = \" + str(round(slope,2)) + \"x + \" + str(round(intercept,2))\n",
    "\n",
    "# Plot\n",
    "plt.scatter(x_axis, y_axis)\n",
    "plt.plot(x_axis, regress_values, \"r-\")\n",
    "plt.annotate(line_eq,(55,20),fontsize=15,color=\"red\")\n",
    "\n",
    "# Add labels and title\n",
    "plt.xlabel('Latitidue')\n",
    "plt.ylabel('Humdity (%)')\n",
    "plt.title('Northern Hemisphere Humidity vs Latitude')\n",
    "\n",
    "# Show plot\n",
    "plt.show\n",
    "\n",
    "# Print plot\n",
    "plt.savefig(\"Output/Northern_Latitude_vs_Humidity.png\")"
   ]
  },
  {
   "cell_type": "markdown",
   "metadata": {},
   "source": [
    "# Analysis\n",
    "\n",
    "A very low Pearson's r number further indicates what we thought before about the correlation between humity and latitude; there isn't one."
   ]
  },
  {
   "cell_type": "markdown",
   "metadata": {},
   "source": [
    "####  Southern Hemisphere - Humidity (%) vs. Latitude Linear Regression"
   ]
  },
  {
   "cell_type": "code",
   "execution_count": 18,
   "metadata": {},
   "outputs": [
    {
     "name": "stdout",
     "output_type": "stream",
     "text": [
      "The correlation between Humidity and Latitude for the Southern Hemisphere is 0.09\n"
     ]
    },
    {
     "data": {
      "image/png": "[encoded data removed]",
      "text/plain": [
       "<Figure size 432x288 with 1 Axes>"
      ]
     },
     "metadata": {
      "needs_background": "light"
     },
     "output_type": "display_data"
    }
   ],
   "source": [
    "#Set Axis\n",
    "x_axis = SouthernDF['Lat']\n",
    "y_axis = SouthernDF['Humidity']\n",
    "# Pearson R\n",
    "r = st.pearsonr(x_axis, y_axis)\n",
    "print(f\"The correlation between Humidity and Latitude for the Southern Hemisphere is {round(r[0],2)}\")\n",
    "\n",
    "# Linear regression model\n",
    "(slope, intercept, rvalue, pvalue, stderr) = st.linregress(x_axis, y_axis)\n",
    "regress_values = x_axis * slope + intercept\n",
    "line_eq = \"y = \" + str(round(slope,2)) + \"x + \" + str(round(intercept,2))\n",
    "\n",
    "# Plot\n",
    "plt.scatter(x_axis, y_axis)\n",
    "plt.plot(x_axis, regress_values, \"r-\")\n",
    "plt.annotate(line_eq,(-20,40),fontsize=15,color=\"red\")\n",
    "\n",
    "# Add labels and title\n",
    "plt.xlabel('Latitude')\n",
    "plt.ylabel('Humdity (%)')\n",
    "plt.title('Southern Hemisphere Humdity (%) vs Latitude')\n",
    "\n",
    "# Show plot\n",
    "plt.show\n",
    "\n",
    "#Print plot\n",
    "plt.savefig(\"Output/Southern_Latitude_vs_Humidty.png\")"
   ]
  },
  {
   "cell_type": "markdown",
   "metadata": {},
   "source": [
    "# Analysis\n",
    "\n",
    "Though the Pearson's r is slightly higher than in the Northern hemisphere, it is not high enough to think there is any kind of correlation between humity and latitude in the Southern hemisphere."
   ]
  },
  {
   "cell_type": "markdown",
   "metadata": {},
   "source": [
    "####  Northern Hemisphere - Cloudiness (%) vs. Latitude Linear Regression"
   ]
  },
  {
   "cell_type": "code",
   "execution_count": 19,
   "metadata": {},
   "outputs": [
    {
     "name": "stdout",
     "output_type": "stream",
     "text": [
      "The correlation between Cloudiness and Latitude for the Northern Hemisphere is 0.14\n"
     ]
    },
    {
     "data": {
      "image/png": "[encoded data removed]",
      "text/plain": [
       "<Figure size 432x288 with 1 Axes>"
      ]
     },
     "metadata": {
      "needs_background": "light"
     },
     "output_type": "display_data"
    }
   ],
   "source": [
    "#Set Axis\n",
    "x_axis = NorthernDF['Lat']\n",
    "y_axis = NorthernDF['Cloudiness']\n",
    "# Pearson R\n",
    "r = st.pearsonr(x_axis, y_axis)\n",
    "print(f\"The correlation between Cloudiness and Latitude for the Northern Hemisphere is {round(r[0],2)}\")\n",
    "\n",
    "# Linear regression model\n",
    "(slope, intercept, rvalue, pvalue, stderr) = st.linregress(x_axis, y_axis)\n",
    "regress_values = x_axis * slope + intercept\n",
    "line_eq = \"y = \" + str(round(slope,2)) + \"x + \" + str(round(intercept,2))\n",
    "\n",
    "# Plot\n",
    "plt.scatter(x_axis, y_axis)\n",
    "plt.plot(x_axis, regress_values, \"r-\")\n",
    "plt.annotate(line_eq,(48,46),fontsize=15,color=\"red\")\n",
    "\n",
    "# Add labels and title\n",
    "plt.xlabel('Latitidue')\n",
    "plt.ylabel('Cloudiness (%)')\n",
    "plt.title('Northern Hemisphere Cloudiness vs Latitude')\n",
    "\n",
    "# Show plot\n",
    "plt.show\n",
    "\n",
    "# Print plot\n",
    "plt.savefig(\"Output/Northern_Latitude_vs_Cloudiness.png\")"
   ]
  },
  {
   "cell_type": "markdown",
   "metadata": {},
   "source": [
    "# Analysis\n",
    "\n",
    "Dots all over the place! This plot confirms our other analysis that there is not relationship between cloudiness and latitude."
   ]
  },
  {
   "cell_type": "markdown",
   "metadata": {},
   "source": [
    "####  Southern Hemisphere - Cloudiness (%) vs. Latitude Linear Regression"
   ]
  },
  {
   "cell_type": "code",
   "execution_count": 21,
   "metadata": {
    "scrolled": true
   },
   "outputs": [
    {
     "name": "stdout",
     "output_type": "stream",
     "text": [
      "The correlation between Cloudiness and Latitude for the Southern Hemisphere is 0.2\n"
     ]
    },
    {
     "data": {
      "image/png": "[encoded data removed]",
      "text/plain": [
       "<Figure size 432x288 with 1 Axes>"
      ]
     },
     "metadata": {
      "needs_background": "light"
     },
     "output_type": "display_data"
    }
   ],
   "source": [
    "#Set Axis\n",
    "x_axis = SouthernDF['Lat']\n",
    "y_axis = SouthernDF['Cloudiness']\n",
    "# Pearson R\n",
    "r = st.pearsonr(x_axis, y_axis)\n",
    "print(f\"The correlation between Cloudiness and Latitude for the Southern Hemisphere is {round(r[0],2)}\")\n",
    "\n",
    "# Linear regression model\n",
    "(slope, intercept, rvalue, pvalue, stderr) = st.linregress(x_axis, y_axis)\n",
    "regress_values = x_axis * slope + intercept\n",
    "line_eq = \"y = \" + str(round(slope,2)) + \"x + \" + str(round(intercept,2))\n",
    "\n",
    "# Plot\n",
    "plt.scatter(x_axis, y_axis)\n",
    "plt.plot(x_axis, regress_values, \"r-\")\n",
    "plt.annotate(line_eq,(-50,60),fontsize=15,color=\"red\")\n",
    "\n",
    "# Add labels and title\n",
    "plt.xlabel('Latitude')\n",
    "plt.ylabel('Cloudiness (%)')\n",
    "plt.title('Southern Hemisphere Cloudiness (%) vs Latitude')\n",
    "\n",
    "# Show plot\n",
    "plt.show\n",
    "\n",
    "# Print Plot\n",
    "plt.savefig(\"Output/Southern_Latitude_vs_Cloudiness.png\")"
   ]
  },
  {
   "cell_type": "markdown",
   "metadata": {},
   "source": [
    "# Analysis\n",
    "\n",
    "Though it appears that in the Southern Hemisphere it appears that there is slightly more correlation between Cloudiness and Latitude. However, it's not a strong enough correlation that one would state that they are actually correlated."
   ]
  },
  {
   "cell_type": "markdown",
   "metadata": {},
   "source": [
    "####  Northern Hemisphere - Wind Speed (mph) vs. Latitude Linear Regression"
   ]
  },
  {
   "cell_type": "code",
   "execution_count": 26,
   "metadata": {},
   "outputs": [
    {
     "name": "stdout",
     "output_type": "stream",
     "text": [
      "The correlation between Wind Speed (mph) and Latitude for the Northern Hemisphere is 0.03\n"
     ]
    },
    {
     "data": {
      "image/png": "[encoded data removed]",
      "text/plain": [
       "<Figure size 432x288 with 1 Axes>"
      ]
     },
     "metadata": {
      "needs_background": "light"
     },
     "output_type": "display_data"
    }
   ],
   "source": [
    "#Set Axis\n",
    "x_axis = NorthernDF['Lat']\n",
    "y_axis = NorthernDF['Wind Speed']\n",
    "# Pearson R\n",
    "r = st.pearsonr(x_axis, y_axis)\n",
    "print(f\"The correlation between Wind Speed (mph) and Latitude for the Northern Hemisphere is {round(r[0],2)}\")\n",
    "\n",
    "# Linear regression model\n",
    "(slope, intercept, rvalue, pvalue, stderr) = st.linregress(x_axis, y_axis)\n",
    "regress_values = x_axis * slope + intercept\n",
    "line_eq = \"y = \" + str(round(slope,2)) + \"x + \" + str(round(intercept,2))\n",
    "\n",
    "# Plot\n",
    "plt.scatter(x_axis, y_axis)\n",
    "plt.plot(x_axis, regress_values, \"r-\")\n",
    "plt.annotate(line_eq,(40,25),fontsize=15,color=\"red\")\n",
    "\n",
    "# Add labels and title\n",
    "plt.xlabel('Latitide')\n",
    "plt.ylabel('Wind Speed (mph)')\n",
    "plt.title('Northern Hemisphere Wind Speed (mph) vs Latitude')\n",
    "\n",
    "# Show plot\n",
    "plt.show\n",
    "\n",
    "# Print plot\n",
    "plt.savefig(\"Output/Northern_Latitude_vs_Wind_Speeed.png\")"
   ]
  },
  {
   "cell_type": "markdown",
   "metadata": {},
   "source": [
    "# Analysis\n",
    "\n",
    "Not a lot of correlation between latitude and wind speed in the Northern Hemiphere. Dots are all over the place and the line is almost flat with a pretty low Pearson's r number."
   ]
  },
  {
   "cell_type": "markdown",
   "metadata": {},
   "source": [
    "####  Southern Hemisphere - Wind Speed (mph) vs. Latitude Linear Regression"
   ]
  },
  {
   "cell_type": "code",
   "execution_count": 27,
   "metadata": {},
   "outputs": [
    {
     "name": "stdout",
     "output_type": "stream",
     "text": [
      "The correlation between Wind Speed (mph) and Latitude for the Southern Hemisphere is -0.01\n"
     ]
    },
    {
     "data": {
      "image/png": "[encoded data removed]",
      "text/plain": [
       "<Figure size 432x288 with 1 Axes>"
      ]
     },
     "metadata": {
      "needs_background": "light"
     },
     "output_type": "display_data"
    }
   ],
   "source": [
    "#Set Axis\n",
    "x_axis = SouthernDF['Lat']\n",
    "y_axis = SouthernDF['Wind Speed']\n",
    "# Pearson R\n",
    "r = st.pearsonr(x_axis, y_axis)\n",
    "print(f\"The correlation between Wind Speed (mph) and Latitude for the Southern Hemisphere is {round(r[0],2)}\")\n",
    "\n",
    "# Linear regression model\n",
    "(slope, intercept, rvalue, pvalue, stderr) = st.linregress(x_axis, y_axis)\n",
    "regress_values = x_axis * slope + intercept\n",
    "line_eq = \"y = \" + str(round(slope,2)) + \"x + \" + str(round(intercept,2))\n",
    "\n",
    "# Plot\n",
    "plt.scatter(x_axis, y_axis)\n",
    "plt.plot(x_axis, regress_values, \"r-\")\n",
    "plt.annotate(line_eq,(-45,23),fontsize=15,color=\"red\")\n",
    "\n",
    "# Add labels and title\n",
    "plt.xlabel('Latitude')\n",
    "plt.ylabel('Wind Speed (mph)')\n",
    "plt.title('Southern Hemisphere Wind Speed (%) vs Latitude')\n",
    "\n",
    "# Show plot\n",
    "plt.show\n",
    "\n",
    "# Print plot\n",
    "plt.savefig(\"Output/Southern_Latitude_vs_Wind_Speed.png\")"
   ]
  },
  {
   "cell_type": "markdown",
   "metadata": {},
   "source": [
    "# Analysis\n",
    "\n",
    "There is no major correlation between wind speed and latitude in the southern hemisphere. \n",
    "\n",
    "\n",
    "# FINAL ANALYSIS\n",
    "\n",
    "While we found out that there is a strong relationship between temperature and latitude, we found no such correlation for wind speed and cloudiness. I would be interested in trying to find the altitude to see if it correlates. "
   ]
  }
 ],
 "metadata": {
  "anaconda-cloud": {},
  "kernel_info": {
   "name": "python3"
  },
  "kernelspec": {
   "display_name": "Python 3",
   "language": "python",
   "name": "python3"
  },
  "language_info": {
   "codemirror_mode": {
    "name": "ipython",
    "version": 3
   },
   "file_extension": ".py",
   "mimetype": "text/x-python",
   "name": "python",
   "nbconvert_exporter": "python",
   "pygments_lexer": "ipython3",
   "version": "3.8.5"
  },
  "latex_envs": {
   "LaTeX_envs_menu_present": true,
   "autoclose": false,
   "autocomplete": true,
   "bibliofile": "biblio.bib",
   "cite_by": "apalike",
   "current_citInitial": 1,
   "eqLabelWithNumbers": true,
   "eqNumInitial": 1,
   "hotkeys": {
    "equation": "Ctrl-E",
    "itemize": "Ctrl-I"
   },
   "labels_anchors": false,
   "latex_user_defs": false,
   "report_style_numbering": false,
   "user_envs_cfg": false
  },
  "nteract": {
   "version": "0.12.3"
  }
 },
 "nbformat": 4,
 "nbformat_minor": 2
}
